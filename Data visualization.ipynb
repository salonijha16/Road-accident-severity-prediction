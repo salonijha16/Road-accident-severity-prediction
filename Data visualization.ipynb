{
 "cells": [
  {
   "cell_type": "code",
   "execution_count": 1,
   "id": "d8de7c7e",
   "metadata": {},
   "outputs": [],
   "source": [
    "import numpy as np\n",
    "import pandas as pd \n",
    "from sklearn.metrics import confusion_matrix\n",
    "from sklearn.metrics import classification_report\n",
    "import matplotlib.pyplot as plt\n",
    "import seaborn as sns\n",
    "sns.set()\n",
    "%matplotlib inline"
   ]
  },
  {
   "cell_type": "code",
   "execution_count": 2,
   "id": "62c8f35c",
   "metadata": {},
   "outputs": [
    {
     "name": "stderr",
     "output_type": "stream",
     "text": [
      "C:\\Users\\SALONI JHA\\AppData\\Local\\Temp\\ipykernel_21188\\674846486.py:1: DtypeWarning: Columns (0) have mixed types. Specify dtype option on import or set low_memory=False.\n",
      "  df_original = pd.read_csv('Accident_Information.csv')\n"
     ]
    }
   ],
   "source": [
    "df_original = pd.read_csv('Accident_Information.csv')"
   ]
  },
  {
   "cell_type": "code",
   "execution_count": 3,
   "id": "5aa8367a",
   "metadata": {},
   "outputs": [
    {
     "data": {
      "text/html": [
       "<div>\n",
       "<style scoped>\n",
       "    .dataframe tbody tr th:only-of-type {\n",
       "        vertical-align: middle;\n",
       "    }\n",
       "\n",
       "    .dataframe tbody tr th {\n",
       "        vertical-align: top;\n",
       "    }\n",
       "\n",
       "    .dataframe thead th {\n",
       "        text-align: right;\n",
       "    }\n",
       "</style>\n",
       "<table border=\"1\" class=\"dataframe\">\n",
       "  <thead>\n",
       "    <tr style=\"text-align: right;\">\n",
       "      <th></th>\n",
       "      <th>Accident_Index</th>\n",
       "      <th>1st_Road_Class</th>\n",
       "      <th>1st_Road_Number</th>\n",
       "      <th>2nd_Road_Class</th>\n",
       "      <th>2nd_Road_Number</th>\n",
       "      <th>Accident_Severity</th>\n",
       "      <th>Carriageway_Hazards</th>\n",
       "      <th>Date</th>\n",
       "      <th>Day_of_Week</th>\n",
       "      <th>Did_Police_Officer_Attend_Scene_of_Accident</th>\n",
       "      <th>...</th>\n",
       "      <th>Police_Force</th>\n",
       "      <th>Road_Surface_Conditions</th>\n",
       "      <th>Road_Type</th>\n",
       "      <th>Special_Conditions_at_Site</th>\n",
       "      <th>Speed_limit</th>\n",
       "      <th>Time</th>\n",
       "      <th>Urban_or_Rural_Area</th>\n",
       "      <th>Weather_Conditions</th>\n",
       "      <th>Year</th>\n",
       "      <th>InScotland</th>\n",
       "    </tr>\n",
       "  </thead>\n",
       "  <tbody>\n",
       "    <tr>\n",
       "      <th>0</th>\n",
       "      <td>200501BS00001</td>\n",
       "      <td>A</td>\n",
       "      <td>3218.0</td>\n",
       "      <td>NaN</td>\n",
       "      <td>0.0</td>\n",
       "      <td>Serious</td>\n",
       "      <td>None</td>\n",
       "      <td>2005-01-04</td>\n",
       "      <td>Tuesday</td>\n",
       "      <td>1.0</td>\n",
       "      <td>...</td>\n",
       "      <td>Metropolitan Police</td>\n",
       "      <td>Wet or damp</td>\n",
       "      <td>Single carriageway</td>\n",
       "      <td>None</td>\n",
       "      <td>30.0</td>\n",
       "      <td>17:42</td>\n",
       "      <td>Urban</td>\n",
       "      <td>Raining no high winds</td>\n",
       "      <td>2005</td>\n",
       "      <td>No</td>\n",
       "    </tr>\n",
       "    <tr>\n",
       "      <th>1</th>\n",
       "      <td>200501BS00002</td>\n",
       "      <td>B</td>\n",
       "      <td>450.0</td>\n",
       "      <td>C</td>\n",
       "      <td>0.0</td>\n",
       "      <td>Slight</td>\n",
       "      <td>None</td>\n",
       "      <td>2005-01-05</td>\n",
       "      <td>Wednesday</td>\n",
       "      <td>1.0</td>\n",
       "      <td>...</td>\n",
       "      <td>Metropolitan Police</td>\n",
       "      <td>Dry</td>\n",
       "      <td>Dual carriageway</td>\n",
       "      <td>None</td>\n",
       "      <td>30.0</td>\n",
       "      <td>17:36</td>\n",
       "      <td>Urban</td>\n",
       "      <td>Fine no high winds</td>\n",
       "      <td>2005</td>\n",
       "      <td>No</td>\n",
       "    </tr>\n",
       "    <tr>\n",
       "      <th>2</th>\n",
       "      <td>200501BS00003</td>\n",
       "      <td>C</td>\n",
       "      <td>0.0</td>\n",
       "      <td>NaN</td>\n",
       "      <td>0.0</td>\n",
       "      <td>Slight</td>\n",
       "      <td>None</td>\n",
       "      <td>2005-01-06</td>\n",
       "      <td>Thursday</td>\n",
       "      <td>1.0</td>\n",
       "      <td>...</td>\n",
       "      <td>Metropolitan Police</td>\n",
       "      <td>Dry</td>\n",
       "      <td>Single carriageway</td>\n",
       "      <td>None</td>\n",
       "      <td>30.0</td>\n",
       "      <td>00:15</td>\n",
       "      <td>Urban</td>\n",
       "      <td>Fine no high winds</td>\n",
       "      <td>2005</td>\n",
       "      <td>No</td>\n",
       "    </tr>\n",
       "    <tr>\n",
       "      <th>3</th>\n",
       "      <td>200501BS00004</td>\n",
       "      <td>A</td>\n",
       "      <td>3220.0</td>\n",
       "      <td>NaN</td>\n",
       "      <td>0.0</td>\n",
       "      <td>Slight</td>\n",
       "      <td>None</td>\n",
       "      <td>2005-01-07</td>\n",
       "      <td>Friday</td>\n",
       "      <td>1.0</td>\n",
       "      <td>...</td>\n",
       "      <td>Metropolitan Police</td>\n",
       "      <td>Dry</td>\n",
       "      <td>Single carriageway</td>\n",
       "      <td>None</td>\n",
       "      <td>30.0</td>\n",
       "      <td>10:35</td>\n",
       "      <td>Urban</td>\n",
       "      <td>Fine no high winds</td>\n",
       "      <td>2005</td>\n",
       "      <td>No</td>\n",
       "    </tr>\n",
       "    <tr>\n",
       "      <th>4</th>\n",
       "      <td>200501BS00005</td>\n",
       "      <td>Unclassified</td>\n",
       "      <td>0.0</td>\n",
       "      <td>NaN</td>\n",
       "      <td>0.0</td>\n",
       "      <td>Slight</td>\n",
       "      <td>None</td>\n",
       "      <td>2005-01-10</td>\n",
       "      <td>Monday</td>\n",
       "      <td>1.0</td>\n",
       "      <td>...</td>\n",
       "      <td>Metropolitan Police</td>\n",
       "      <td>Wet or damp</td>\n",
       "      <td>Single carriageway</td>\n",
       "      <td>None</td>\n",
       "      <td>30.0</td>\n",
       "      <td>21:13</td>\n",
       "      <td>Urban</td>\n",
       "      <td>Fine no high winds</td>\n",
       "      <td>2005</td>\n",
       "      <td>No</td>\n",
       "    </tr>\n",
       "  </tbody>\n",
       "</table>\n",
       "<p>5 rows × 34 columns</p>\n",
       "</div>"
      ],
      "text/plain": [
       "  Accident_Index 1st_Road_Class  1st_Road_Number 2nd_Road_Class  \\\n",
       "0  200501BS00001              A           3218.0            NaN   \n",
       "1  200501BS00002              B            450.0              C   \n",
       "2  200501BS00003              C              0.0            NaN   \n",
       "3  200501BS00004              A           3220.0            NaN   \n",
       "4  200501BS00005   Unclassified              0.0            NaN   \n",
       "\n",
       "   2nd_Road_Number Accident_Severity Carriageway_Hazards        Date  \\\n",
       "0              0.0           Serious                None  2005-01-04   \n",
       "1              0.0            Slight                None  2005-01-05   \n",
       "2              0.0            Slight                None  2005-01-06   \n",
       "3              0.0            Slight                None  2005-01-07   \n",
       "4              0.0            Slight                None  2005-01-10   \n",
       "\n",
       "  Day_of_Week  Did_Police_Officer_Attend_Scene_of_Accident  ...  \\\n",
       "0     Tuesday                                          1.0  ...   \n",
       "1   Wednesday                                          1.0  ...   \n",
       "2    Thursday                                          1.0  ...   \n",
       "3      Friday                                          1.0  ...   \n",
       "4      Monday                                          1.0  ...   \n",
       "\n",
       "          Police_Force Road_Surface_Conditions           Road_Type  \\\n",
       "0  Metropolitan Police             Wet or damp  Single carriageway   \n",
       "1  Metropolitan Police                     Dry    Dual carriageway   \n",
       "2  Metropolitan Police                     Dry  Single carriageway   \n",
       "3  Metropolitan Police                     Dry  Single carriageway   \n",
       "4  Metropolitan Police             Wet or damp  Single carriageway   \n",
       "\n",
       "  Special_Conditions_at_Site Speed_limit   Time  Urban_or_Rural_Area  \\\n",
       "0                       None        30.0  17:42                Urban   \n",
       "1                       None        30.0  17:36                Urban   \n",
       "2                       None        30.0  00:15                Urban   \n",
       "3                       None        30.0  10:35                Urban   \n",
       "4                       None        30.0  21:13                Urban   \n",
       "\n",
       "      Weather_Conditions  Year InScotland  \n",
       "0  Raining no high winds  2005         No  \n",
       "1     Fine no high winds  2005         No  \n",
       "2     Fine no high winds  2005         No  \n",
       "3     Fine no high winds  2005         No  \n",
       "4     Fine no high winds  2005         No  \n",
       "\n",
       "[5 rows x 34 columns]"
      ]
     },
     "execution_count": 3,
     "metadata": {},
     "output_type": "execute_result"
    }
   ],
   "source": [
    "df_original.head()"
   ]
  },
  {
   "cell_type": "code",
   "execution_count": 4,
   "id": "47250f2f",
   "metadata": {},
   "outputs": [],
   "source": [
    "df_org = df_original[['1st_Road_Class','Carriageway_Hazards','Day_of_Week',\n",
    "                      'Junction_Detail','Light_Conditions','Road_Surface_Conditions','Road_Type',\n",
    "                      'Special_Conditions_at_Site','Speed_limit','Time','Urban_or_Rural_Area','Weather_Conditions',\n",
    "                      'Accident_Severity']]"
   ]
  },
  {
   "cell_type": "code",
   "execution_count": 5,
   "id": "0ecc19bf",
   "metadata": {},
   "outputs": [
    {
     "data": {
      "text/html": [
       "<div>\n",
       "<style scoped>\n",
       "    .dataframe tbody tr th:only-of-type {\n",
       "        vertical-align: middle;\n",
       "    }\n",
       "\n",
       "    .dataframe tbody tr th {\n",
       "        vertical-align: top;\n",
       "    }\n",
       "\n",
       "    .dataframe thead th {\n",
       "        text-align: right;\n",
       "    }\n",
       "</style>\n",
       "<table border=\"1\" class=\"dataframe\">\n",
       "  <thead>\n",
       "    <tr style=\"text-align: right;\">\n",
       "      <th></th>\n",
       "      <th>1st_Road_Class</th>\n",
       "      <th>Carriageway_Hazards</th>\n",
       "      <th>Day_of_Week</th>\n",
       "      <th>Junction_Detail</th>\n",
       "      <th>Light_Conditions</th>\n",
       "      <th>Road_Surface_Conditions</th>\n",
       "      <th>Road_Type</th>\n",
       "      <th>Special_Conditions_at_Site</th>\n",
       "      <th>Speed_limit</th>\n",
       "      <th>Time</th>\n",
       "      <th>Urban_or_Rural_Area</th>\n",
       "      <th>Weather_Conditions</th>\n",
       "      <th>Accident_Severity</th>\n",
       "    </tr>\n",
       "  </thead>\n",
       "  <tbody>\n",
       "    <tr>\n",
       "      <th>0</th>\n",
       "      <td>A</td>\n",
       "      <td>None</td>\n",
       "      <td>Tuesday</td>\n",
       "      <td>Not at junction or within 20 metres</td>\n",
       "      <td>Daylight</td>\n",
       "      <td>Wet or damp</td>\n",
       "      <td>Single carriageway</td>\n",
       "      <td>None</td>\n",
       "      <td>30.0</td>\n",
       "      <td>17:42</td>\n",
       "      <td>Urban</td>\n",
       "      <td>Raining no high winds</td>\n",
       "      <td>Serious</td>\n",
       "    </tr>\n",
       "    <tr>\n",
       "      <th>1</th>\n",
       "      <td>B</td>\n",
       "      <td>None</td>\n",
       "      <td>Wednesday</td>\n",
       "      <td>Crossroads</td>\n",
       "      <td>Darkness - lights lit</td>\n",
       "      <td>Dry</td>\n",
       "      <td>Dual carriageway</td>\n",
       "      <td>None</td>\n",
       "      <td>30.0</td>\n",
       "      <td>17:36</td>\n",
       "      <td>Urban</td>\n",
       "      <td>Fine no high winds</td>\n",
       "      <td>Slight</td>\n",
       "    </tr>\n",
       "    <tr>\n",
       "      <th>2</th>\n",
       "      <td>C</td>\n",
       "      <td>None</td>\n",
       "      <td>Thursday</td>\n",
       "      <td>Not at junction or within 20 metres</td>\n",
       "      <td>Darkness - lights lit</td>\n",
       "      <td>Dry</td>\n",
       "      <td>Single carriageway</td>\n",
       "      <td>None</td>\n",
       "      <td>30.0</td>\n",
       "      <td>00:15</td>\n",
       "      <td>Urban</td>\n",
       "      <td>Fine no high winds</td>\n",
       "      <td>Slight</td>\n",
       "    </tr>\n",
       "    <tr>\n",
       "      <th>3</th>\n",
       "      <td>A</td>\n",
       "      <td>None</td>\n",
       "      <td>Friday</td>\n",
       "      <td>Not at junction or within 20 metres</td>\n",
       "      <td>Daylight</td>\n",
       "      <td>Dry</td>\n",
       "      <td>Single carriageway</td>\n",
       "      <td>None</td>\n",
       "      <td>30.0</td>\n",
       "      <td>10:35</td>\n",
       "      <td>Urban</td>\n",
       "      <td>Fine no high winds</td>\n",
       "      <td>Slight</td>\n",
       "    </tr>\n",
       "    <tr>\n",
       "      <th>4</th>\n",
       "      <td>Unclassified</td>\n",
       "      <td>None</td>\n",
       "      <td>Monday</td>\n",
       "      <td>Not at junction or within 20 metres</td>\n",
       "      <td>Darkness - lighting unknown</td>\n",
       "      <td>Wet or damp</td>\n",
       "      <td>Single carriageway</td>\n",
       "      <td>None</td>\n",
       "      <td>30.0</td>\n",
       "      <td>21:13</td>\n",
       "      <td>Urban</td>\n",
       "      <td>Fine no high winds</td>\n",
       "      <td>Slight</td>\n",
       "    </tr>\n",
       "  </tbody>\n",
       "</table>\n",
       "</div>"
      ],
      "text/plain": [
       "  1st_Road_Class Carriageway_Hazards Day_of_Week  \\\n",
       "0              A                None     Tuesday   \n",
       "1              B                None   Wednesday   \n",
       "2              C                None    Thursday   \n",
       "3              A                None      Friday   \n",
       "4   Unclassified                None      Monday   \n",
       "\n",
       "                       Junction_Detail             Light_Conditions  \\\n",
       "0  Not at junction or within 20 metres                     Daylight   \n",
       "1                           Crossroads        Darkness - lights lit   \n",
       "2  Not at junction or within 20 metres        Darkness - lights lit   \n",
       "3  Not at junction or within 20 metres                     Daylight   \n",
       "4  Not at junction or within 20 metres  Darkness - lighting unknown   \n",
       "\n",
       "  Road_Surface_Conditions           Road_Type Special_Conditions_at_Site  \\\n",
       "0             Wet or damp  Single carriageway                       None   \n",
       "1                     Dry    Dual carriageway                       None   \n",
       "2                     Dry  Single carriageway                       None   \n",
       "3                     Dry  Single carriageway                       None   \n",
       "4             Wet or damp  Single carriageway                       None   \n",
       "\n",
       "   Speed_limit   Time Urban_or_Rural_Area     Weather_Conditions  \\\n",
       "0         30.0  17:42               Urban  Raining no high winds   \n",
       "1         30.0  17:36               Urban     Fine no high winds   \n",
       "2         30.0  00:15               Urban     Fine no high winds   \n",
       "3         30.0  10:35               Urban     Fine no high winds   \n",
       "4         30.0  21:13               Urban     Fine no high winds   \n",
       "\n",
       "  Accident_Severity  \n",
       "0           Serious  \n",
       "1            Slight  \n",
       "2            Slight  \n",
       "3            Slight  \n",
       "4            Slight  "
      ]
     },
     "execution_count": 5,
     "metadata": {},
     "output_type": "execute_result"
    }
   ],
   "source": [
    "df_org.head()"
   ]
  },
  {
   "cell_type": "code",
   "execution_count": 6,
   "id": "4191fcdc",
   "metadata": {},
   "outputs": [],
   "source": [
    "df_org_y = df_org[['Accident_Severity']]"
   ]
  },
  {
   "cell_type": "code",
   "execution_count": 7,
   "id": "0d0bff97",
   "metadata": {},
   "outputs": [
    {
     "data": {
      "text/html": [
       "<div>\n",
       "<style scoped>\n",
       "    .dataframe tbody tr th:only-of-type {\n",
       "        vertical-align: middle;\n",
       "    }\n",
       "\n",
       "    .dataframe tbody tr th {\n",
       "        vertical-align: top;\n",
       "    }\n",
       "\n",
       "    .dataframe thead th {\n",
       "        text-align: right;\n",
       "    }\n",
       "</style>\n",
       "<table border=\"1\" class=\"dataframe\">\n",
       "  <thead>\n",
       "    <tr style=\"text-align: right;\">\n",
       "      <th></th>\n",
       "      <th>Accident_Severity</th>\n",
       "    </tr>\n",
       "  </thead>\n",
       "  <tbody>\n",
       "    <tr>\n",
       "      <th>0</th>\n",
       "      <td>Serious</td>\n",
       "    </tr>\n",
       "    <tr>\n",
       "      <th>1</th>\n",
       "      <td>Slight</td>\n",
       "    </tr>\n",
       "    <tr>\n",
       "      <th>2</th>\n",
       "      <td>Slight</td>\n",
       "    </tr>\n",
       "    <tr>\n",
       "      <th>3</th>\n",
       "      <td>Slight</td>\n",
       "    </tr>\n",
       "    <tr>\n",
       "      <th>4</th>\n",
       "      <td>Slight</td>\n",
       "    </tr>\n",
       "  </tbody>\n",
       "</table>\n",
       "</div>"
      ],
      "text/plain": [
       "  Accident_Severity\n",
       "0           Serious\n",
       "1            Slight\n",
       "2            Slight\n",
       "3            Slight\n",
       "4            Slight"
      ]
     },
     "execution_count": 7,
     "metadata": {},
     "output_type": "execute_result"
    }
   ],
   "source": [
    "df_org_y.head()\n"
   ]
  },
  {
   "cell_type": "code",
   "execution_count": 8,
   "id": "41bd130b",
   "metadata": {},
   "outputs": [],
   "source": [
    "df_org_x = df_org[['1st_Road_Class','Carriageway_Hazards','Day_of_Week','Junction_Detail',\n",
    "                   'Light_Conditions','Road_Surface_Conditions','Road_Type','Special_Conditions_at_Site',\n",
    "                   'Speed_limit','Time','Urban_or_Rural_Area','Weather_Conditions']]"
   ]
  },
  {
   "cell_type": "code",
   "execution_count": 9,
   "id": "438abb98",
   "metadata": {},
   "outputs": [
    {
     "data": {
      "text/plain": [
       "Slight     1734548\n",
       "Serious     286339\n",
       "Fatal        26369\n",
       "Name: Accident_Severity, dtype: int64"
      ]
     },
     "execution_count": 9,
     "metadata": {},
     "output_type": "execute_result"
    }
   ],
   "source": [
    "df_org_y['Accident_Severity'].value_counts()"
   ]
  },
  {
   "cell_type": "code",
   "execution_count": 10,
   "id": "da003d95",
   "metadata": {},
   "outputs": [
    {
     "data": {
      "text/plain": [
       "Slight     1734548\n",
       "Serious     286339\n",
       "Fatal        26369\n",
       "Name: Accident_Severity, dtype: int64"
      ]
     },
     "execution_count": 10,
     "metadata": {},
     "output_type": "execute_result"
    }
   ],
   "source": [
    "df_org_y['Accident_Severity'].value_counts()\n"
   ]
  },
  {
   "cell_type": "code",
   "execution_count": 11,
   "id": "c9026d27",
   "metadata": {},
   "outputs": [
    {
     "data": {
      "text/plain": [
       "Accident_Severity\n",
       "Slight               1734548\n",
       "Serious               286339\n",
       "Fatal                  26369\n",
       "dtype: int64"
      ]
     },
     "execution_count": 11,
     "metadata": {},
     "output_type": "execute_result"
    }
   ],
   "source": [
    "df_org_y[['Accident_Severity']].value_counts()"
   ]
  },
  {
   "cell_type": "code",
   "execution_count": 12,
   "id": "9529f7bf",
   "metadata": {},
   "outputs": [
    {
     "data": {
      "text/html": [
       "<div>\n",
       "<style scoped>\n",
       "    .dataframe tbody tr th:only-of-type {\n",
       "        vertical-align: middle;\n",
       "    }\n",
       "\n",
       "    .dataframe tbody tr th {\n",
       "        vertical-align: top;\n",
       "    }\n",
       "\n",
       "    .dataframe thead th {\n",
       "        text-align: right;\n",
       "    }\n",
       "</style>\n",
       "<table border=\"1\" class=\"dataframe\">\n",
       "  <thead>\n",
       "    <tr style=\"text-align: right;\">\n",
       "      <th></th>\n",
       "      <th>Accident_Severity</th>\n",
       "    </tr>\n",
       "  </thead>\n",
       "  <tbody>\n",
       "    <tr>\n",
       "      <th>0</th>\n",
       "      <td>Serious</td>\n",
       "    </tr>\n",
       "    <tr>\n",
       "      <th>1</th>\n",
       "      <td>Slight</td>\n",
       "    </tr>\n",
       "    <tr>\n",
       "      <th>2</th>\n",
       "      <td>Slight</td>\n",
       "    </tr>\n",
       "    <tr>\n",
       "      <th>3</th>\n",
       "      <td>Slight</td>\n",
       "    </tr>\n",
       "    <tr>\n",
       "      <th>4</th>\n",
       "      <td>Slight</td>\n",
       "    </tr>\n",
       "  </tbody>\n",
       "</table>\n",
       "</div>"
      ],
      "text/plain": [
       "  Accident_Severity\n",
       "0           Serious\n",
       "1            Slight\n",
       "2            Slight\n",
       "3            Slight\n",
       "4            Slight"
      ]
     },
     "execution_count": 12,
     "metadata": {},
     "output_type": "execute_result"
    }
   ],
   "source": [
    "df_org_y.head()"
   ]
  },
  {
   "cell_type": "code",
   "execution_count": 13,
   "id": "8c98a4db",
   "metadata": {},
   "outputs": [
    {
     "data": {
      "text/plain": [
       "Accident_Index                                  object\n",
       "1st_Road_Class                                  object\n",
       "1st_Road_Number                                float64\n",
       "2nd_Road_Class                                  object\n",
       "2nd_Road_Number                                float64\n",
       "Accident_Severity                               object\n",
       "Carriageway_Hazards                             object\n",
       "Date                                            object\n",
       "Day_of_Week                                     object\n",
       "Did_Police_Officer_Attend_Scene_of_Accident    float64\n",
       "Junction_Control                                object\n",
       "Junction_Detail                                 object\n",
       "Latitude                                       float64\n",
       "Light_Conditions                                object\n",
       "Local_Authority_(District)                      object\n",
       "Local_Authority_(Highway)                       object\n",
       "Location_Easting_OSGR                          float64\n",
       "Location_Northing_OSGR                         float64\n",
       "Longitude                                      float64\n",
       "LSOA_of_Accident_Location                       object\n",
       "Number_of_Casualties                             int64\n",
       "Number_of_Vehicles                               int64\n",
       "Pedestrian_Crossing-Human_Control              float64\n",
       "Pedestrian_Crossing-Physical_Facilities        float64\n",
       "Police_Force                                    object\n",
       "Road_Surface_Conditions                         object\n",
       "Road_Type                                       object\n",
       "Special_Conditions_at_Site                      object\n",
       "Speed_limit                                    float64\n",
       "Time                                            object\n",
       "Urban_or_Rural_Area                             object\n",
       "Weather_Conditions                              object\n",
       "Year                                             int64\n",
       "InScotland                                      object\n",
       "dtype: object"
      ]
     },
     "execution_count": 13,
     "metadata": {},
     "output_type": "execute_result"
    }
   ],
   "source": [
    "df=df_original\n",
    "df.dtypes"
   ]
  },
  {
   "cell_type": "code",
   "execution_count": 14,
   "id": "ed1cd66f",
   "metadata": {},
   "outputs": [],
   "source": [
    "df_original.dropna(axis=1,how='all',inplace=True)"
   ]
  },
  {
   "cell_type": "code",
   "execution_count": 15,
   "id": "f97621d4",
   "metadata": {},
   "outputs": [
    {
     "data": {
      "text/html": [
       "<div>\n",
       "<style scoped>\n",
       "    .dataframe tbody tr th:only-of-type {\n",
       "        vertical-align: middle;\n",
       "    }\n",
       "\n",
       "    .dataframe tbody tr th {\n",
       "        vertical-align: top;\n",
       "    }\n",
       "\n",
       "    .dataframe thead th {\n",
       "        text-align: right;\n",
       "    }\n",
       "</style>\n",
       "<table border=\"1\" class=\"dataframe\">\n",
       "  <thead>\n",
       "    <tr style=\"text-align: right;\">\n",
       "      <th></th>\n",
       "      <th>Accident_Index</th>\n",
       "      <th>1st_Road_Class</th>\n",
       "      <th>1st_Road_Number</th>\n",
       "      <th>2nd_Road_Class</th>\n",
       "      <th>2nd_Road_Number</th>\n",
       "      <th>Accident_Severity</th>\n",
       "      <th>Carriageway_Hazards</th>\n",
       "      <th>Date</th>\n",
       "      <th>Day_of_Week</th>\n",
       "      <th>Did_Police_Officer_Attend_Scene_of_Accident</th>\n",
       "      <th>...</th>\n",
       "      <th>Police_Force</th>\n",
       "      <th>Road_Surface_Conditions</th>\n",
       "      <th>Road_Type</th>\n",
       "      <th>Special_Conditions_at_Site</th>\n",
       "      <th>Speed_limit</th>\n",
       "      <th>Time</th>\n",
       "      <th>Urban_or_Rural_Area</th>\n",
       "      <th>Weather_Conditions</th>\n",
       "      <th>Year</th>\n",
       "      <th>InScotland</th>\n",
       "    </tr>\n",
       "  </thead>\n",
       "  <tbody>\n",
       "    <tr>\n",
       "      <th>0</th>\n",
       "      <td>200501BS00001</td>\n",
       "      <td>A</td>\n",
       "      <td>3218.0</td>\n",
       "      <td>NaN</td>\n",
       "      <td>0.0</td>\n",
       "      <td>Serious</td>\n",
       "      <td>None</td>\n",
       "      <td>2005-01-04</td>\n",
       "      <td>Tuesday</td>\n",
       "      <td>1.0</td>\n",
       "      <td>...</td>\n",
       "      <td>Metropolitan Police</td>\n",
       "      <td>Wet or damp</td>\n",
       "      <td>Single carriageway</td>\n",
       "      <td>None</td>\n",
       "      <td>30.0</td>\n",
       "      <td>17:42</td>\n",
       "      <td>Urban</td>\n",
       "      <td>Raining no high winds</td>\n",
       "      <td>2005</td>\n",
       "      <td>No</td>\n",
       "    </tr>\n",
       "    <tr>\n",
       "      <th>1</th>\n",
       "      <td>200501BS00002</td>\n",
       "      <td>B</td>\n",
       "      <td>450.0</td>\n",
       "      <td>C</td>\n",
       "      <td>0.0</td>\n",
       "      <td>Slight</td>\n",
       "      <td>None</td>\n",
       "      <td>2005-01-05</td>\n",
       "      <td>Wednesday</td>\n",
       "      <td>1.0</td>\n",
       "      <td>...</td>\n",
       "      <td>Metropolitan Police</td>\n",
       "      <td>Dry</td>\n",
       "      <td>Dual carriageway</td>\n",
       "      <td>None</td>\n",
       "      <td>30.0</td>\n",
       "      <td>17:36</td>\n",
       "      <td>Urban</td>\n",
       "      <td>Fine no high winds</td>\n",
       "      <td>2005</td>\n",
       "      <td>No</td>\n",
       "    </tr>\n",
       "    <tr>\n",
       "      <th>2</th>\n",
       "      <td>200501BS00003</td>\n",
       "      <td>C</td>\n",
       "      <td>0.0</td>\n",
       "      <td>NaN</td>\n",
       "      <td>0.0</td>\n",
       "      <td>Slight</td>\n",
       "      <td>None</td>\n",
       "      <td>2005-01-06</td>\n",
       "      <td>Thursday</td>\n",
       "      <td>1.0</td>\n",
       "      <td>...</td>\n",
       "      <td>Metropolitan Police</td>\n",
       "      <td>Dry</td>\n",
       "      <td>Single carriageway</td>\n",
       "      <td>None</td>\n",
       "      <td>30.0</td>\n",
       "      <td>00:15</td>\n",
       "      <td>Urban</td>\n",
       "      <td>Fine no high winds</td>\n",
       "      <td>2005</td>\n",
       "      <td>No</td>\n",
       "    </tr>\n",
       "    <tr>\n",
       "      <th>3</th>\n",
       "      <td>200501BS00004</td>\n",
       "      <td>A</td>\n",
       "      <td>3220.0</td>\n",
       "      <td>NaN</td>\n",
       "      <td>0.0</td>\n",
       "      <td>Slight</td>\n",
       "      <td>None</td>\n",
       "      <td>2005-01-07</td>\n",
       "      <td>Friday</td>\n",
       "      <td>1.0</td>\n",
       "      <td>...</td>\n",
       "      <td>Metropolitan Police</td>\n",
       "      <td>Dry</td>\n",
       "      <td>Single carriageway</td>\n",
       "      <td>None</td>\n",
       "      <td>30.0</td>\n",
       "      <td>10:35</td>\n",
       "      <td>Urban</td>\n",
       "      <td>Fine no high winds</td>\n",
       "      <td>2005</td>\n",
       "      <td>No</td>\n",
       "    </tr>\n",
       "    <tr>\n",
       "      <th>4</th>\n",
       "      <td>200501BS00005</td>\n",
       "      <td>Unclassified</td>\n",
       "      <td>0.0</td>\n",
       "      <td>NaN</td>\n",
       "      <td>0.0</td>\n",
       "      <td>Slight</td>\n",
       "      <td>None</td>\n",
       "      <td>2005-01-10</td>\n",
       "      <td>Monday</td>\n",
       "      <td>1.0</td>\n",
       "      <td>...</td>\n",
       "      <td>Metropolitan Police</td>\n",
       "      <td>Wet or damp</td>\n",
       "      <td>Single carriageway</td>\n",
       "      <td>None</td>\n",
       "      <td>30.0</td>\n",
       "      <td>21:13</td>\n",
       "      <td>Urban</td>\n",
       "      <td>Fine no high winds</td>\n",
       "      <td>2005</td>\n",
       "      <td>No</td>\n",
       "    </tr>\n",
       "    <tr>\n",
       "      <th>...</th>\n",
       "      <td>...</td>\n",
       "      <td>...</td>\n",
       "      <td>...</td>\n",
       "      <td>...</td>\n",
       "      <td>...</td>\n",
       "      <td>...</td>\n",
       "      <td>...</td>\n",
       "      <td>...</td>\n",
       "      <td>...</td>\n",
       "      <td>...</td>\n",
       "      <td>...</td>\n",
       "      <td>...</td>\n",
       "      <td>...</td>\n",
       "      <td>...</td>\n",
       "      <td>...</td>\n",
       "      <td>...</td>\n",
       "      <td>...</td>\n",
       "      <td>...</td>\n",
       "      <td>...</td>\n",
       "      <td>...</td>\n",
       "      <td>...</td>\n",
       "    </tr>\n",
       "    <tr>\n",
       "      <th>2047251</th>\n",
       "      <td>2017984121017</td>\n",
       "      <td>A(M)</td>\n",
       "      <td>74.0</td>\n",
       "      <td>NaN</td>\n",
       "      <td>0.0</td>\n",
       "      <td>Slight</td>\n",
       "      <td>None</td>\n",
       "      <td>2017-12-17</td>\n",
       "      <td>Sunday</td>\n",
       "      <td>1.0</td>\n",
       "      <td>...</td>\n",
       "      <td>Dumfries and Galloway</td>\n",
       "      <td>Frost or ice</td>\n",
       "      <td>Dual carriageway</td>\n",
       "      <td>None</td>\n",
       "      <td>70.0</td>\n",
       "      <td>11:30</td>\n",
       "      <td>Rural</td>\n",
       "      <td>Other</td>\n",
       "      <td>2017</td>\n",
       "      <td>Yes</td>\n",
       "    </tr>\n",
       "    <tr>\n",
       "      <th>2047252</th>\n",
       "      <td>2017984121217</td>\n",
       "      <td>C</td>\n",
       "      <td>69.0</td>\n",
       "      <td>NaN</td>\n",
       "      <td>0.0</td>\n",
       "      <td>Slight</td>\n",
       "      <td>Pedestrian in carriageway - not injured</td>\n",
       "      <td>2017-12-15</td>\n",
       "      <td>Friday</td>\n",
       "      <td>2.0</td>\n",
       "      <td>...</td>\n",
       "      <td>Dumfries and Galloway</td>\n",
       "      <td>Dry</td>\n",
       "      <td>Single carriageway</td>\n",
       "      <td>None</td>\n",
       "      <td>20.0</td>\n",
       "      <td>13:00</td>\n",
       "      <td>Urban</td>\n",
       "      <td>Fine no high winds</td>\n",
       "      <td>2017</td>\n",
       "      <td>Yes</td>\n",
       "    </tr>\n",
       "    <tr>\n",
       "      <th>2047253</th>\n",
       "      <td>2017984121717</td>\n",
       "      <td>A(M)</td>\n",
       "      <td>74.0</td>\n",
       "      <td>Unclassified</td>\n",
       "      <td>0.0</td>\n",
       "      <td>Slight</td>\n",
       "      <td>None</td>\n",
       "      <td>2017-12-18</td>\n",
       "      <td>Monday</td>\n",
       "      <td>1.0</td>\n",
       "      <td>...</td>\n",
       "      <td>Dumfries and Galloway</td>\n",
       "      <td>Wet or damp</td>\n",
       "      <td>Dual carriageway</td>\n",
       "      <td>None</td>\n",
       "      <td>70.0</td>\n",
       "      <td>13:30</td>\n",
       "      <td>Rural</td>\n",
       "      <td>Fine no high winds</td>\n",
       "      <td>2017</td>\n",
       "      <td>Yes</td>\n",
       "    </tr>\n",
       "    <tr>\n",
       "      <th>2047254</th>\n",
       "      <td>2017984122317</td>\n",
       "      <td>A</td>\n",
       "      <td>708.0</td>\n",
       "      <td>NaN</td>\n",
       "      <td>0.0</td>\n",
       "      <td>Slight</td>\n",
       "      <td>None</td>\n",
       "      <td>2017-07-18</td>\n",
       "      <td>Tuesday</td>\n",
       "      <td>1.0</td>\n",
       "      <td>...</td>\n",
       "      <td>Dumfries and Galloway</td>\n",
       "      <td>Dry</td>\n",
       "      <td>Single carriageway</td>\n",
       "      <td>None</td>\n",
       "      <td>60.0</td>\n",
       "      <td>18:00</td>\n",
       "      <td>Rural</td>\n",
       "      <td>Fine no high winds</td>\n",
       "      <td>2017</td>\n",
       "      <td>Yes</td>\n",
       "    </tr>\n",
       "    <tr>\n",
       "      <th>2047255</th>\n",
       "      <td>2017984122617</td>\n",
       "      <td>B</td>\n",
       "      <td>721.0</td>\n",
       "      <td>B</td>\n",
       "      <td>724.0</td>\n",
       "      <td>Serious</td>\n",
       "      <td>None</td>\n",
       "      <td>2017-12-20</td>\n",
       "      <td>Wednesday</td>\n",
       "      <td>1.0</td>\n",
       "      <td>...</td>\n",
       "      <td>Dumfries and Galloway</td>\n",
       "      <td>Wet or damp</td>\n",
       "      <td>Single carriageway</td>\n",
       "      <td>None</td>\n",
       "      <td>40.0</td>\n",
       "      <td>13:00</td>\n",
       "      <td>Rural</td>\n",
       "      <td>Fog or mist</td>\n",
       "      <td>2017</td>\n",
       "      <td>Yes</td>\n",
       "    </tr>\n",
       "  </tbody>\n",
       "</table>\n",
       "<p>2047256 rows × 34 columns</p>\n",
       "</div>"
      ],
      "text/plain": [
       "        Accident_Index 1st_Road_Class  1st_Road_Number 2nd_Road_Class  \\\n",
       "0        200501BS00001              A           3218.0            NaN   \n",
       "1        200501BS00002              B            450.0              C   \n",
       "2        200501BS00003              C              0.0            NaN   \n",
       "3        200501BS00004              A           3220.0            NaN   \n",
       "4        200501BS00005   Unclassified              0.0            NaN   \n",
       "...                ...            ...              ...            ...   \n",
       "2047251  2017984121017           A(M)             74.0            NaN   \n",
       "2047252  2017984121217              C             69.0            NaN   \n",
       "2047253  2017984121717           A(M)             74.0   Unclassified   \n",
       "2047254  2017984122317              A            708.0            NaN   \n",
       "2047255  2017984122617              B            721.0              B   \n",
       "\n",
       "         2nd_Road_Number Accident_Severity  \\\n",
       "0                    0.0           Serious   \n",
       "1                    0.0            Slight   \n",
       "2                    0.0            Slight   \n",
       "3                    0.0            Slight   \n",
       "4                    0.0            Slight   \n",
       "...                  ...               ...   \n",
       "2047251              0.0            Slight   \n",
       "2047252              0.0            Slight   \n",
       "2047253              0.0            Slight   \n",
       "2047254              0.0            Slight   \n",
       "2047255            724.0           Serious   \n",
       "\n",
       "                             Carriageway_Hazards        Date Day_of_Week  \\\n",
       "0                                           None  2005-01-04     Tuesday   \n",
       "1                                           None  2005-01-05   Wednesday   \n",
       "2                                           None  2005-01-06    Thursday   \n",
       "3                                           None  2005-01-07      Friday   \n",
       "4                                           None  2005-01-10      Monday   \n",
       "...                                          ...         ...         ...   \n",
       "2047251                                     None  2017-12-17      Sunday   \n",
       "2047252  Pedestrian in carriageway - not injured  2017-12-15      Friday   \n",
       "2047253                                     None  2017-12-18      Monday   \n",
       "2047254                                     None  2017-07-18     Tuesday   \n",
       "2047255                                     None  2017-12-20   Wednesday   \n",
       "\n",
       "         Did_Police_Officer_Attend_Scene_of_Accident  ...  \\\n",
       "0                                                1.0  ...   \n",
       "1                                                1.0  ...   \n",
       "2                                                1.0  ...   \n",
       "3                                                1.0  ...   \n",
       "4                                                1.0  ...   \n",
       "...                                              ...  ...   \n",
       "2047251                                          1.0  ...   \n",
       "2047252                                          2.0  ...   \n",
       "2047253                                          1.0  ...   \n",
       "2047254                                          1.0  ...   \n",
       "2047255                                          1.0  ...   \n",
       "\n",
       "                  Police_Force Road_Surface_Conditions           Road_Type  \\\n",
       "0          Metropolitan Police             Wet or damp  Single carriageway   \n",
       "1          Metropolitan Police                     Dry    Dual carriageway   \n",
       "2          Metropolitan Police                     Dry  Single carriageway   \n",
       "3          Metropolitan Police                     Dry  Single carriageway   \n",
       "4          Metropolitan Police             Wet or damp  Single carriageway   \n",
       "...                        ...                     ...                 ...   \n",
       "2047251  Dumfries and Galloway            Frost or ice    Dual carriageway   \n",
       "2047252  Dumfries and Galloway                     Dry  Single carriageway   \n",
       "2047253  Dumfries and Galloway             Wet or damp    Dual carriageway   \n",
       "2047254  Dumfries and Galloway                     Dry  Single carriageway   \n",
       "2047255  Dumfries and Galloway             Wet or damp  Single carriageway   \n",
       "\n",
       "        Special_Conditions_at_Site Speed_limit   Time  Urban_or_Rural_Area  \\\n",
       "0                             None        30.0  17:42                Urban   \n",
       "1                             None        30.0  17:36                Urban   \n",
       "2                             None        30.0  00:15                Urban   \n",
       "3                             None        30.0  10:35                Urban   \n",
       "4                             None        30.0  21:13                Urban   \n",
       "...                            ...         ...    ...                  ...   \n",
       "2047251                       None        70.0  11:30                Rural   \n",
       "2047252                       None        20.0  13:00                Urban   \n",
       "2047253                       None        70.0  13:30                Rural   \n",
       "2047254                       None        60.0  18:00                Rural   \n",
       "2047255                       None        40.0  13:00                Rural   \n",
       "\n",
       "            Weather_Conditions  Year InScotland  \n",
       "0        Raining no high winds  2005         No  \n",
       "1           Fine no high winds  2005         No  \n",
       "2           Fine no high winds  2005         No  \n",
       "3           Fine no high winds  2005         No  \n",
       "4           Fine no high winds  2005         No  \n",
       "...                        ...   ...        ...  \n",
       "2047251                  Other  2017        Yes  \n",
       "2047252     Fine no high winds  2017        Yes  \n",
       "2047253     Fine no high winds  2017        Yes  \n",
       "2047254     Fine no high winds  2017        Yes  \n",
       "2047255            Fog or mist  2017        Yes  \n",
       "\n",
       "[2047256 rows x 34 columns]"
      ]
     },
     "execution_count": 15,
     "metadata": {},
     "output_type": "execute_result"
    }
   ],
   "source": [
    "df_original"
   ]
  },
  {
   "cell_type": "code",
   "execution_count": 16,
   "id": "30ed0f72",
   "metadata": {},
   "outputs": [],
   "source": [
    "def to_hour(time):\n",
    "    try:\n",
    "        hour = datetime.strptime(str(time), '%H:%M')\n",
    "        return int(datetime.strftime(hour, '%H'))\n",
    "    except Exception:\n",
    "        return 0"
   ]
  },
  {
   "cell_type": "code",
   "execution_count": 17,
   "id": "6e5327ab",
   "metadata": {},
   "outputs": [],
   "source": [
    "df_original.replace('', np.nan, inplace=True)"
   ]
  },
  {
   "cell_type": "code",
   "execution_count": 18,
   "id": "1e23d6e0",
   "metadata": {},
   "outputs": [],
   "source": [
    "df_original.replace('Unknown', np.nan, inplace=True)"
   ]
  },
  {
   "cell_type": "code",
   "execution_count": 48,
   "id": "0fbce78c",
   "metadata": {},
   "outputs": [],
   "source": [
    "df_original.dropna(axis=0, inplace=True)"
   ]
  },
  {
   "cell_type": "code",
   "execution_count": 47,
   "id": "9254cf00",
   "metadata": {},
   "outputs": [],
   "source": [
    "df_original['Junction_Control'].replace(np.nan, 'None', inplace=True)"
   ]
  },
  {
   "cell_type": "code",
   "execution_count": 46,
   "id": "910202b9",
   "metadata": {},
   "outputs": [],
   "source": [
    "df_original['Date'] = pd.to_datetime(df_original['Date'], format='%Y-%m-%d')\n",
    "df_original['Month'] = df_original['Date'].dt.month\n",
    "df_original['Day'] = df_original['Date'].dt.day\n",
    "df_original['Hour of Day'] = df_original['Time'].apply(to_hour)"
   ]
  },
  {
   "cell_type": "code",
   "execution_count": 45,
   "id": "5cf6a666",
   "metadata": {},
   "outputs": [
    {
     "data": {
      "text/html": [
       "<div>\n",
       "<style scoped>\n",
       "    .dataframe tbody tr th:only-of-type {\n",
       "        vertical-align: middle;\n",
       "    }\n",
       "\n",
       "    .dataframe tbody tr th {\n",
       "        vertical-align: top;\n",
       "    }\n",
       "\n",
       "    .dataframe thead th {\n",
       "        text-align: right;\n",
       "    }\n",
       "</style>\n",
       "<table border=\"1\" class=\"dataframe\">\n",
       "  <thead>\n",
       "    <tr style=\"text-align: right;\">\n",
       "      <th></th>\n",
       "      <th>Accident_Index</th>\n",
       "      <th>1st_Road_Class</th>\n",
       "      <th>1st_Road_Number</th>\n",
       "      <th>2nd_Road_Class</th>\n",
       "      <th>2nd_Road_Number</th>\n",
       "      <th>Accident_Severity</th>\n",
       "      <th>Carriageway_Hazards</th>\n",
       "      <th>Date</th>\n",
       "      <th>Day_of_Week</th>\n",
       "      <th>Did_Police_Officer_Attend_Scene_of_Accident</th>\n",
       "      <th>...</th>\n",
       "      <th>Special_Conditions_at_Site</th>\n",
       "      <th>Speed_limit</th>\n",
       "      <th>Time</th>\n",
       "      <th>Urban_or_Rural_Area</th>\n",
       "      <th>Weather_Conditions</th>\n",
       "      <th>Year</th>\n",
       "      <th>InScotland</th>\n",
       "      <th>Month</th>\n",
       "      <th>Day</th>\n",
       "      <th>Hour of Day</th>\n",
       "    </tr>\n",
       "  </thead>\n",
       "  <tbody>\n",
       "    <tr>\n",
       "      <th>1</th>\n",
       "      <td>200501BS00002</td>\n",
       "      <td>2</td>\n",
       "      <td>450.0</td>\n",
       "      <td>C</td>\n",
       "      <td>0.0</td>\n",
       "      <td>Slight</td>\n",
       "      <td>None</td>\n",
       "      <td>2005-01-05</td>\n",
       "      <td>Wednesday</td>\n",
       "      <td>1.0</td>\n",
       "      <td>...</td>\n",
       "      <td>None</td>\n",
       "      <td>30.0</td>\n",
       "      <td>17:36</td>\n",
       "      <td>Urban</td>\n",
       "      <td>Fine no high winds</td>\n",
       "      <td>2005</td>\n",
       "      <td>No</td>\n",
       "      <td>1</td>\n",
       "      <td>5</td>\n",
       "      <td>0</td>\n",
       "    </tr>\n",
       "    <tr>\n",
       "      <th>6</th>\n",
       "      <td>200501BS00007</td>\n",
       "      <td>3</td>\n",
       "      <td>0.0</td>\n",
       "      <td>Unclassified</td>\n",
       "      <td>0.0</td>\n",
       "      <td>Slight</td>\n",
       "      <td>None</td>\n",
       "      <td>2005-01-13</td>\n",
       "      <td>Thursday</td>\n",
       "      <td>1.0</td>\n",
       "      <td>...</td>\n",
       "      <td>None</td>\n",
       "      <td>30.0</td>\n",
       "      <td>20:40</td>\n",
       "      <td>Urban</td>\n",
       "      <td>Fine no high winds</td>\n",
       "      <td>2005</td>\n",
       "      <td>No</td>\n",
       "      <td>1</td>\n",
       "      <td>13</td>\n",
       "      <td>0</td>\n",
       "    </tr>\n",
       "    <tr>\n",
       "      <th>8</th>\n",
       "      <td>200501BS00010</td>\n",
       "      <td>1</td>\n",
       "      <td>3212.0</td>\n",
       "      <td>B</td>\n",
       "      <td>304.0</td>\n",
       "      <td>Slight</td>\n",
       "      <td>None</td>\n",
       "      <td>2005-01-15</td>\n",
       "      <td>Saturday</td>\n",
       "      <td>1.0</td>\n",
       "      <td>...</td>\n",
       "      <td>None</td>\n",
       "      <td>30.0</td>\n",
       "      <td>22:43</td>\n",
       "      <td>Urban</td>\n",
       "      <td>Fine no high winds</td>\n",
       "      <td>2005</td>\n",
       "      <td>No</td>\n",
       "      <td>1</td>\n",
       "      <td>15</td>\n",
       "      <td>0</td>\n",
       "    </tr>\n",
       "    <tr>\n",
       "      <th>9</th>\n",
       "      <td>200501BS00011</td>\n",
       "      <td>2</td>\n",
       "      <td>450.0</td>\n",
       "      <td>C</td>\n",
       "      <td>0.0</td>\n",
       "      <td>Slight</td>\n",
       "      <td>None</td>\n",
       "      <td>2005-01-15</td>\n",
       "      <td>Saturday</td>\n",
       "      <td>1.0</td>\n",
       "      <td>...</td>\n",
       "      <td>None</td>\n",
       "      <td>30.0</td>\n",
       "      <td>16:00</td>\n",
       "      <td>Urban</td>\n",
       "      <td>Fine no high winds</td>\n",
       "      <td>2005</td>\n",
       "      <td>No</td>\n",
       "      <td>1</td>\n",
       "      <td>15</td>\n",
       "      <td>0</td>\n",
       "    </tr>\n",
       "    <tr>\n",
       "      <th>10</th>\n",
       "      <td>200501BS00012</td>\n",
       "      <td>1</td>\n",
       "      <td>4.0</td>\n",
       "      <td>B</td>\n",
       "      <td>325.0</td>\n",
       "      <td>Slight</td>\n",
       "      <td>None</td>\n",
       "      <td>2005-01-16</td>\n",
       "      <td>Sunday</td>\n",
       "      <td>1.0</td>\n",
       "      <td>...</td>\n",
       "      <td>None</td>\n",
       "      <td>30.0</td>\n",
       "      <td>00:42</td>\n",
       "      <td>Urban</td>\n",
       "      <td>Fine no high winds</td>\n",
       "      <td>2005</td>\n",
       "      <td>No</td>\n",
       "      <td>1</td>\n",
       "      <td>16</td>\n",
       "      <td>0</td>\n",
       "    </tr>\n",
       "  </tbody>\n",
       "</table>\n",
       "<p>5 rows × 37 columns</p>\n",
       "</div>"
      ],
      "text/plain": [
       "   Accident_Index  1st_Road_Class  1st_Road_Number 2nd_Road_Class  \\\n",
       "1   200501BS00002               2            450.0              C   \n",
       "6   200501BS00007               3              0.0   Unclassified   \n",
       "8   200501BS00010               1           3212.0              B   \n",
       "9   200501BS00011               2            450.0              C   \n",
       "10  200501BS00012               1              4.0              B   \n",
       "\n",
       "    2nd_Road_Number Accident_Severity Carriageway_Hazards       Date  \\\n",
       "1               0.0            Slight                None 2005-01-05   \n",
       "6               0.0            Slight                None 2005-01-13   \n",
       "8             304.0            Slight                None 2005-01-15   \n",
       "9               0.0            Slight                None 2005-01-15   \n",
       "10            325.0            Slight                None 2005-01-16   \n",
       "\n",
       "   Day_of_Week  Did_Police_Officer_Attend_Scene_of_Accident  ...  \\\n",
       "1    Wednesday                                          1.0  ...   \n",
       "6     Thursday                                          1.0  ...   \n",
       "8     Saturday                                          1.0  ...   \n",
       "9     Saturday                                          1.0  ...   \n",
       "10      Sunday                                          1.0  ...   \n",
       "\n",
       "   Special_Conditions_at_Site Speed_limit   Time Urban_or_Rural_Area  \\\n",
       "1                        None        30.0  17:36               Urban   \n",
       "6                        None        30.0  20:40               Urban   \n",
       "8                        None        30.0  22:43               Urban   \n",
       "9                        None        30.0  16:00               Urban   \n",
       "10                       None        30.0  00:42               Urban   \n",
       "\n",
       "    Weather_Conditions  Year  InScotland  Month  Day Hour of Day  \n",
       "1   Fine no high winds  2005          No      1    5           0  \n",
       "6   Fine no high winds  2005          No      1   13           0  \n",
       "8   Fine no high winds  2005          No      1   15           0  \n",
       "9   Fine no high winds  2005          No      1   15           0  \n",
       "10  Fine no high winds  2005          No      1   16           0  \n",
       "\n",
       "[5 rows x 37 columns]"
      ]
     },
     "execution_count": 45,
     "metadata": {},
     "output_type": "execute_result"
    }
   ],
   "source": [
    "df_original.head()"
   ]
  },
  {
   "cell_type": "code",
   "execution_count": 49,
   "id": "1ddc5cb9",
   "metadata": {},
   "outputs": [
    {
     "name": "stdout",
     "output_type": "stream",
     "text": [
      "None                                               1091447\n",
      "Other object on road                                  4929\n",
      "Pedestrian in carriageway - not injured               2282\n",
      "Any animal in carriageway (except ridden horse)       1652\n",
      "Vehicle load on road                                   899\n",
      "Previous accident                                      676\n",
      "Name: Carriageway_Hazards, dtype: int64\n"
     ]
    }
   ],
   "source": [
    "print(df_original['Carriageway_Hazards'].value_counts())"
   ]
  },
  {
   "cell_type": "code",
   "execution_count": 50,
   "id": "c37caf25",
   "metadata": {},
   "outputs": [],
   "source": [
    "df_original.drop(df_original.loc[df_original['Carriageway_Hazards']=='Data missing or out of range'].index, inplace=True)"
   ]
  },
  {
   "cell_type": "code",
   "execution_count": 51,
   "id": "f1aba03f",
   "metadata": {},
   "outputs": [
    {
     "data": {
      "text/html": [
       "<div>\n",
       "<style scoped>\n",
       "    .dataframe tbody tr th:only-of-type {\n",
       "        vertical-align: middle;\n",
       "    }\n",
       "\n",
       "    .dataframe tbody tr th {\n",
       "        vertical-align: top;\n",
       "    }\n",
       "\n",
       "    .dataframe thead th {\n",
       "        text-align: right;\n",
       "    }\n",
       "</style>\n",
       "<table border=\"1\" class=\"dataframe\">\n",
       "  <thead>\n",
       "    <tr style=\"text-align: right;\">\n",
       "      <th></th>\n",
       "      <th>Accident_Index</th>\n",
       "      <th>1st_Road_Class</th>\n",
       "      <th>1st_Road_Number</th>\n",
       "      <th>2nd_Road_Class</th>\n",
       "      <th>2nd_Road_Number</th>\n",
       "      <th>Accident_Severity</th>\n",
       "      <th>Carriageway_Hazards</th>\n",
       "      <th>Date</th>\n",
       "      <th>Day_of_Week</th>\n",
       "      <th>Did_Police_Officer_Attend_Scene_of_Accident</th>\n",
       "      <th>...</th>\n",
       "      <th>Special_Conditions_at_Site</th>\n",
       "      <th>Speed_limit</th>\n",
       "      <th>Time</th>\n",
       "      <th>Urban_or_Rural_Area</th>\n",
       "      <th>Weather_Conditions</th>\n",
       "      <th>Year</th>\n",
       "      <th>InScotland</th>\n",
       "      <th>Month</th>\n",
       "      <th>Day</th>\n",
       "      <th>Hour of Day</th>\n",
       "    </tr>\n",
       "  </thead>\n",
       "  <tbody>\n",
       "    <tr>\n",
       "      <th>1</th>\n",
       "      <td>200501BS00002</td>\n",
       "      <td>2</td>\n",
       "      <td>450.0</td>\n",
       "      <td>C</td>\n",
       "      <td>0.0</td>\n",
       "      <td>Slight</td>\n",
       "      <td>None</td>\n",
       "      <td>2005-01-05</td>\n",
       "      <td>Wednesday</td>\n",
       "      <td>1.0</td>\n",
       "      <td>...</td>\n",
       "      <td>None</td>\n",
       "      <td>30.0</td>\n",
       "      <td>17:36</td>\n",
       "      <td>Urban</td>\n",
       "      <td>Fine no high winds</td>\n",
       "      <td>2005</td>\n",
       "      <td>No</td>\n",
       "      <td>1</td>\n",
       "      <td>5</td>\n",
       "      <td>0</td>\n",
       "    </tr>\n",
       "    <tr>\n",
       "      <th>6</th>\n",
       "      <td>200501BS00007</td>\n",
       "      <td>3</td>\n",
       "      <td>0.0</td>\n",
       "      <td>Unclassified</td>\n",
       "      <td>0.0</td>\n",
       "      <td>Slight</td>\n",
       "      <td>None</td>\n",
       "      <td>2005-01-13</td>\n",
       "      <td>Thursday</td>\n",
       "      <td>1.0</td>\n",
       "      <td>...</td>\n",
       "      <td>None</td>\n",
       "      <td>30.0</td>\n",
       "      <td>20:40</td>\n",
       "      <td>Urban</td>\n",
       "      <td>Fine no high winds</td>\n",
       "      <td>2005</td>\n",
       "      <td>No</td>\n",
       "      <td>1</td>\n",
       "      <td>13</td>\n",
       "      <td>0</td>\n",
       "    </tr>\n",
       "    <tr>\n",
       "      <th>8</th>\n",
       "      <td>200501BS00010</td>\n",
       "      <td>1</td>\n",
       "      <td>3212.0</td>\n",
       "      <td>B</td>\n",
       "      <td>304.0</td>\n",
       "      <td>Slight</td>\n",
       "      <td>None</td>\n",
       "      <td>2005-01-15</td>\n",
       "      <td>Saturday</td>\n",
       "      <td>1.0</td>\n",
       "      <td>...</td>\n",
       "      <td>None</td>\n",
       "      <td>30.0</td>\n",
       "      <td>22:43</td>\n",
       "      <td>Urban</td>\n",
       "      <td>Fine no high winds</td>\n",
       "      <td>2005</td>\n",
       "      <td>No</td>\n",
       "      <td>1</td>\n",
       "      <td>15</td>\n",
       "      <td>0</td>\n",
       "    </tr>\n",
       "    <tr>\n",
       "      <th>9</th>\n",
       "      <td>200501BS00011</td>\n",
       "      <td>2</td>\n",
       "      <td>450.0</td>\n",
       "      <td>C</td>\n",
       "      <td>0.0</td>\n",
       "      <td>Slight</td>\n",
       "      <td>None</td>\n",
       "      <td>2005-01-15</td>\n",
       "      <td>Saturday</td>\n",
       "      <td>1.0</td>\n",
       "      <td>...</td>\n",
       "      <td>None</td>\n",
       "      <td>30.0</td>\n",
       "      <td>16:00</td>\n",
       "      <td>Urban</td>\n",
       "      <td>Fine no high winds</td>\n",
       "      <td>2005</td>\n",
       "      <td>No</td>\n",
       "      <td>1</td>\n",
       "      <td>15</td>\n",
       "      <td>0</td>\n",
       "    </tr>\n",
       "    <tr>\n",
       "      <th>10</th>\n",
       "      <td>200501BS00012</td>\n",
       "      <td>1</td>\n",
       "      <td>4.0</td>\n",
       "      <td>B</td>\n",
       "      <td>325.0</td>\n",
       "      <td>Slight</td>\n",
       "      <td>None</td>\n",
       "      <td>2005-01-16</td>\n",
       "      <td>Sunday</td>\n",
       "      <td>1.0</td>\n",
       "      <td>...</td>\n",
       "      <td>None</td>\n",
       "      <td>30.0</td>\n",
       "      <td>00:42</td>\n",
       "      <td>Urban</td>\n",
       "      <td>Fine no high winds</td>\n",
       "      <td>2005</td>\n",
       "      <td>No</td>\n",
       "      <td>1</td>\n",
       "      <td>16</td>\n",
       "      <td>0</td>\n",
       "    </tr>\n",
       "  </tbody>\n",
       "</table>\n",
       "<p>5 rows × 37 columns</p>\n",
       "</div>"
      ],
      "text/plain": [
       "   Accident_Index  1st_Road_Class  1st_Road_Number 2nd_Road_Class  \\\n",
       "1   200501BS00002               2            450.0              C   \n",
       "6   200501BS00007               3              0.0   Unclassified   \n",
       "8   200501BS00010               1           3212.0              B   \n",
       "9   200501BS00011               2            450.0              C   \n",
       "10  200501BS00012               1              4.0              B   \n",
       "\n",
       "    2nd_Road_Number Accident_Severity Carriageway_Hazards       Date  \\\n",
       "1               0.0            Slight                None 2005-01-05   \n",
       "6               0.0            Slight                None 2005-01-13   \n",
       "8             304.0            Slight                None 2005-01-15   \n",
       "9               0.0            Slight                None 2005-01-15   \n",
       "10            325.0            Slight                None 2005-01-16   \n",
       "\n",
       "   Day_of_Week  Did_Police_Officer_Attend_Scene_of_Accident  ...  \\\n",
       "1    Wednesday                                          1.0  ...   \n",
       "6     Thursday                                          1.0  ...   \n",
       "8     Saturday                                          1.0  ...   \n",
       "9     Saturday                                          1.0  ...   \n",
       "10      Sunday                                          1.0  ...   \n",
       "\n",
       "   Special_Conditions_at_Site Speed_limit   Time Urban_or_Rural_Area  \\\n",
       "1                        None        30.0  17:36               Urban   \n",
       "6                        None        30.0  20:40               Urban   \n",
       "8                        None        30.0  22:43               Urban   \n",
       "9                        None        30.0  16:00               Urban   \n",
       "10                       None        30.0  00:42               Urban   \n",
       "\n",
       "    Weather_Conditions  Year  InScotland  Month  Day Hour of Day  \n",
       "1   Fine no high winds  2005          No      1    5           0  \n",
       "6   Fine no high winds  2005          No      1   13           0  \n",
       "8   Fine no high winds  2005          No      1   15           0  \n",
       "9   Fine no high winds  2005          No      1   15           0  \n",
       "10  Fine no high winds  2005          No      1   16           0  \n",
       "\n",
       "[5 rows x 37 columns]"
      ]
     },
     "execution_count": 51,
     "metadata": {},
     "output_type": "execute_result"
    }
   ],
   "source": [
    "df_original.head()"
   ]
  },
  {
   "cell_type": "code",
   "execution_count": 52,
   "id": "8ee148e7",
   "metadata": {},
   "outputs": [
    {
     "name": "stdout",
     "output_type": "stream",
     "text": [
      "None                                               1091447\n",
      "Other object on road                                  4929\n",
      "Pedestrian in carriageway - not injured               2282\n",
      "Any animal in carriageway (except ridden horse)       1652\n",
      "Vehicle load on road                                   899\n",
      "Previous accident                                      676\n",
      "Name: Carriageway_Hazards, dtype: int64\n"
     ]
    }
   ],
   "source": [
    "print(df_original['Carriageway_Hazards'].value_counts())"
   ]
  },
  {
   "cell_type": "code",
   "execution_count": 53,
   "id": "149bfaa7",
   "metadata": {},
   "outputs": [
    {
     "name": "stdout",
     "output_type": "stream",
     "text": [
      "Daylight                       816794\n",
      "Darkness - lights lit          248009\n",
      "Darkness - no lighting          21798\n",
      "Darkness - lighting unknown     10474\n",
      "Darkness - lights unlit          4810\n",
      "Name: Light_Conditions, dtype: int64\n"
     ]
    }
   ],
   "source": [
    "print(df_original['Light_Conditions'].value_counts())"
   ]
  },
  {
   "cell_type": "code",
   "execution_count": 54,
   "id": "dead9aef",
   "metadata": {},
   "outputs": [],
   "source": [
    "df_original.drop(df_original.loc[df_original['Light_Conditions']=='Data missing or out of range'].index, inplace=True)"
   ]
  },
  {
   "cell_type": "code",
   "execution_count": 55,
   "id": "70fbcb25",
   "metadata": {},
   "outputs": [
    {
     "name": "stdout",
     "output_type": "stream",
     "text": [
      "Friday       181331\n",
      "Wednesday    169887\n",
      "Thursday     168700\n",
      "Tuesday      168693\n",
      "Monday       157457\n",
      "Saturday     142410\n",
      "Sunday       113407\n",
      "Name: Day_of_Week, dtype: int64\n"
     ]
    }
   ],
   "source": [
    "print(df_original['Day_of_Week'].value_counts())"
   ]
  },
  {
   "cell_type": "code",
   "execution_count": 56,
   "id": "9d10156c",
   "metadata": {},
   "outputs": [
    {
     "name": "stdout",
     "output_type": "stream",
     "text": [
      "None                                          1080929\n",
      "Roadworks                                       10166\n",
      "Oil or diesel                                    2642\n",
      "Auto traffic signal - out                        2585\n",
      "Road sign or marking defective or obscured       2193\n",
      "Road surface defective                           1532\n",
      "Mud                                              1141\n",
      "Auto signal part defective                        697\n",
      "Name: Special_Conditions_at_Site, dtype: int64\n"
     ]
    }
   ],
   "source": [
    "print(df_original['Special_Conditions_at_Site'].value_counts())"
   ]
  },
  {
   "cell_type": "code",
   "execution_count": 57,
   "id": "9cd7876e",
   "metadata": {},
   "outputs": [],
   "source": [
    "df_original.drop(df_original.loc[df_original['Special_Conditions_at_Site']=='Data missing or out of range'].index, inplace=True)"
   ]
  },
  {
   "cell_type": "code",
   "execution_count": 58,
   "id": "ea210b86",
   "metadata": {},
   "outputs": [
    {
     "data": {
      "text/plain": [
       "1    852623\n",
       "2    140524\n",
       "3     97393\n",
       "4     11345\n",
       "Name: 1st_Road_Class, dtype: int64"
      ]
     },
     "execution_count": 58,
     "metadata": {},
     "output_type": "execute_result"
    }
   ],
   "source": [
    "df_original['1st_Road_Class'].value_counts()"
   ]
  },
  {
   "cell_type": "code",
   "execution_count": 59,
   "id": "ab8be00e",
   "metadata": {},
   "outputs": [
    {
     "data": {
      "text/plain": [
       "1    852623\n",
       "2    140524\n",
       "3     97393\n",
       "4     11345\n",
       "Name: 1st_Road_Class, dtype: int64"
      ]
     },
     "execution_count": 59,
     "metadata": {},
     "output_type": "execute_result"
    }
   ],
   "source": [
    "encoding_1st_road_class = {\"1st_Road_Class\": {\"A\": 1, \"A(M)\": 1, \"B\": 2, \"C\": 3, \"Motorway\": 4, \"Unclassified\": 1}}\n",
    "df_original.replace(encoding_1st_road_class, inplace=True)\n",
    "df_original['1st_Road_Class'].value_counts()"
   ]
  },
  {
   "cell_type": "code",
   "execution_count": 60,
   "id": "47ea3cad",
   "metadata": {},
   "outputs": [
    {
     "data": {
      "text/plain": [
       "T or staggered junction                586128\n",
       "Crossroads                             180661\n",
       "Roundabout                             162093\n",
       "Private drive or entrance               56091\n",
       "Other junction                          46201\n",
       "Slip road                               26788\n",
       "More than 4 arms (not roundabout)       22659\n",
       "Mini-roundabout                         20941\n",
       "Not at junction or within 20 metres       323\n",
       "Name: Junction_Detail, dtype: int64"
      ]
     },
     "execution_count": 60,
     "metadata": {},
     "output_type": "execute_result"
    }
   ],
   "source": [
    "df_original['Junction_Detail'].value_counts()"
   ]
  },
  {
   "cell_type": "code",
   "execution_count": 61,
   "id": "473bc859",
   "metadata": {},
   "outputs": [],
   "source": [
    "df_original.drop(df_original.loc[df_original['Junction_Detail']=='Data missing or out of range'].index, inplace=True)"
   ]
  },
  {
   "cell_type": "code",
   "execution_count": 62,
   "id": "068df0ba",
   "metadata": {},
   "outputs": [
    {
     "data": {
      "text/plain": [
       "Dry                     796180\n",
       "Wet or damp             287683\n",
       "Frost or ice             13219\n",
       "Snow                      4273\n",
       "Flood over 3cm. deep       530\n",
       "Name: Road_Surface_Conditions, dtype: int64"
      ]
     },
     "execution_count": 62,
     "metadata": {},
     "output_type": "execute_result"
    }
   ],
   "source": [
    "df_original['Road_Surface_Conditions'].value_counts()\n"
   ]
  },
  {
   "cell_type": "code",
   "execution_count": 63,
   "id": "d9f94c28",
   "metadata": {},
   "outputs": [],
   "source": [
    "df_original.drop(df_original.loc[df_original['Road_Surface_Conditions']=='Data missing or out of range'].index, inplace=True)"
   ]
  },
  {
   "cell_type": "code",
   "execution_count": 64,
   "id": "45eaaabf",
   "metadata": {},
   "outputs": [
    {
     "data": {
      "text/plain": [
       "Single carriageway    821689\n",
       "Roundabout            124558\n",
       "Dual carriageway      117162\n",
       "One way street         24536\n",
       "Slip road              13940\n",
       "Name: Road_Type, dtype: int64"
      ]
     },
     "execution_count": 64,
     "metadata": {},
     "output_type": "execute_result"
    }
   ],
   "source": [
    "df_original['Road_Type'].value_counts()"
   ]
  },
  {
   "cell_type": "code",
   "execution_count": 65,
   "id": "9a8f1f8f",
   "metadata": {},
   "outputs": [],
   "source": [
    "df_original.drop(df_original.loc[df_original['Road_Type']=='Unknown'].index, inplace=True)"
   ]
  },
  {
   "cell_type": "code",
   "execution_count": 66,
   "id": "cfab67fa",
   "metadata": {},
   "outputs": [
    {
     "data": {
      "text/plain": [
       "Urban    835600\n",
       "Rural    266285\n",
       "Name: Urban_or_Rural_Area, dtype: int64"
      ]
     },
     "execution_count": 66,
     "metadata": {},
     "output_type": "execute_result"
    }
   ],
   "source": [
    "df_original['Urban_or_Rural_Area'].value_counts()"
   ]
  },
  {
   "cell_type": "code",
   "execution_count": 67,
   "id": "f1c3b96e",
   "metadata": {},
   "outputs": [],
   "source": [
    "df_original.drop(df_original.loc[df_original['Urban_or_Rural_Area']=='Unallocated'].index, inplace=True)"
   ]
  },
  {
   "cell_type": "code",
   "execution_count": 68,
   "id": "db5e8fb9",
   "metadata": {},
   "outputs": [
    {
     "data": {
      "text/plain": [
       "Fine no high winds       917524\n",
       "Raining no high winds    126244\n",
       "Other                     22071\n",
       "Fine + high winds         12523\n",
       "Raining + high winds      12516\n",
       "Snowing no high winds      5451\n",
       "Fog or mist                4842\n",
       "Snowing + high winds        714\n",
       "Name: Weather_Conditions, dtype: int64"
      ]
     },
     "execution_count": 68,
     "metadata": {},
     "output_type": "execute_result"
    }
   ],
   "source": [
    "df_original['Weather_Conditions'].value_counts()"
   ]
  },
  {
   "cell_type": "code",
   "execution_count": 69,
   "id": "83028f92",
   "metadata": {},
   "outputs": [],
   "source": [
    "df_original.drop(df_original.loc[df_original['Weather_Conditions']=='Data missing or out of range'].index, inplace=True)"
   ]
  },
  {
   "cell_type": "code",
   "execution_count": 70,
   "id": "96f21a0a",
   "metadata": {},
   "outputs": [
    {
     "ename": "SyntaxError",
     "evalue": "incomplete input (1238827938.py, line 1)",
     "output_type": "error",
     "traceback": [
      "\u001b[1;36m  Cell \u001b[1;32mIn[70], line 1\u001b[1;36m\u001b[0m\n\u001b[1;33m    df_original.drop(df_original.loc[df_original['Weather_Conditions']=='Unknown'].index, inplace=True\u001b[0m\n\u001b[1;37m                                                                                                      ^\u001b[0m\n\u001b[1;31mSyntaxError\u001b[0m\u001b[1;31m:\u001b[0m incomplete input\n"
     ]
    }
   ],
   "source": [
    "df_original.drop(df_original.loc[df_original['Weather_Conditions']=='Unknown'].index, inplace=True"
   ]
  },
  {
   "cell_type": "code",
   "execution_count": 71,
   "id": "28532c29",
   "metadata": {},
   "outputs": [
    {
     "ename": "SyntaxError",
     "evalue": "incomplete input (1238827938.py, line 1)",
     "output_type": "error",
     "traceback": [
      "\u001b[1;36m  Cell \u001b[1;32mIn[71], line 1\u001b[1;36m\u001b[0m\n\u001b[1;33m    df_original.drop(df_original.loc[df_original['Weather_Conditions']=='Unknown'].index, inplace=True\u001b[0m\n\u001b[1;37m                                                                                                      ^\u001b[0m\n\u001b[1;31mSyntaxError\u001b[0m\u001b[1;31m:\u001b[0m incomplete input\n"
     ]
    }
   ],
   "source": [
    "df_original.drop(df_original.loc[df_original['Weather_Conditions']=='Unknown'].index, inplace=True"
   ]
  },
  {
   "cell_type": "code",
   "execution_count": 72,
   "id": "60402b0b",
   "metadata": {},
   "outputs": [],
   "source": [
    "df_original.drop(df_original.loc[df_original['Weather_Conditions']=='Unknown'].index, inplace=True)"
   ]
  },
  {
   "cell_type": "code",
   "execution_count": 73,
   "id": "885067dd",
   "metadata": {},
   "outputs": [
    {
     "data": {
      "text/plain": [
       "30.0    818639\n",
       "60.0    101047\n",
       "40.0     96737\n",
       "70.0     33302\n",
       "50.0     30562\n",
       "20.0     21596\n",
       "10.0         1\n",
       "0.0          1\n",
       "Name: Speed_limit, dtype: int64"
      ]
     },
     "execution_count": 73,
     "metadata": {},
     "output_type": "execute_result"
    }
   ],
   "source": [
    "df_original['Speed_limit'].value_counts()"
   ]
  },
  {
   "cell_type": "code",
   "execution_count": 74,
   "id": "0ad32d61",
   "metadata": {},
   "outputs": [
    {
     "data": {
      "text/plain": [
       "(array([], dtype=int64),)"
      ]
     },
     "execution_count": 74,
     "metadata": {},
     "output_type": "execute_result"
    }
   ],
   "source": [
    "np.where(np.isnan(df_original['Speed_limit']))"
   ]
  },
  {
   "cell_type": "code",
   "execution_count": 75,
   "id": "530f1c32",
   "metadata": {},
   "outputs": [],
   "source": [
    "df_original['Time'].fillna(0, inplace=True)"
   ]
  },
  {
   "cell_type": "code",
   "execution_count": 76,
   "id": "915aa941",
   "metadata": {},
   "outputs": [
    {
     "data": {
      "text/html": [
       "<div>\n",
       "<style scoped>\n",
       "    .dataframe tbody tr th:only-of-type {\n",
       "        vertical-align: middle;\n",
       "    }\n",
       "\n",
       "    .dataframe tbody tr th {\n",
       "        vertical-align: top;\n",
       "    }\n",
       "\n",
       "    .dataframe thead th {\n",
       "        text-align: right;\n",
       "    }\n",
       "</style>\n",
       "<table border=\"1\" class=\"dataframe\">\n",
       "  <thead>\n",
       "    <tr style=\"text-align: right;\">\n",
       "      <th></th>\n",
       "      <th>Accident_Index</th>\n",
       "      <th>1st_Road_Class</th>\n",
       "      <th>1st_Road_Number</th>\n",
       "      <th>2nd_Road_Class</th>\n",
       "      <th>2nd_Road_Number</th>\n",
       "      <th>Accident_Severity</th>\n",
       "      <th>Carriageway_Hazards</th>\n",
       "      <th>Date</th>\n",
       "      <th>Day_of_Week</th>\n",
       "      <th>Did_Police_Officer_Attend_Scene_of_Accident</th>\n",
       "      <th>...</th>\n",
       "      <th>Special_Conditions_at_Site</th>\n",
       "      <th>Speed_limit</th>\n",
       "      <th>Time</th>\n",
       "      <th>Urban_or_Rural_Area</th>\n",
       "      <th>Weather_Conditions</th>\n",
       "      <th>Year</th>\n",
       "      <th>InScotland</th>\n",
       "      <th>Month</th>\n",
       "      <th>Day</th>\n",
       "      <th>Hour of Day</th>\n",
       "    </tr>\n",
       "  </thead>\n",
       "  <tbody>\n",
       "    <tr>\n",
       "      <th>1</th>\n",
       "      <td>200501BS00002</td>\n",
       "      <td>2</td>\n",
       "      <td>450.0</td>\n",
       "      <td>C</td>\n",
       "      <td>0.0</td>\n",
       "      <td>Slight</td>\n",
       "      <td>None</td>\n",
       "      <td>2005-01-05</td>\n",
       "      <td>Wednesday</td>\n",
       "      <td>1.0</td>\n",
       "      <td>...</td>\n",
       "      <td>None</td>\n",
       "      <td>30.0</td>\n",
       "      <td>17:36</td>\n",
       "      <td>Urban</td>\n",
       "      <td>Fine no high winds</td>\n",
       "      <td>2005</td>\n",
       "      <td>No</td>\n",
       "      <td>1</td>\n",
       "      <td>5</td>\n",
       "      <td>0</td>\n",
       "    </tr>\n",
       "    <tr>\n",
       "      <th>6</th>\n",
       "      <td>200501BS00007</td>\n",
       "      <td>3</td>\n",
       "      <td>0.0</td>\n",
       "      <td>Unclassified</td>\n",
       "      <td>0.0</td>\n",
       "      <td>Slight</td>\n",
       "      <td>None</td>\n",
       "      <td>2005-01-13</td>\n",
       "      <td>Thursday</td>\n",
       "      <td>1.0</td>\n",
       "      <td>...</td>\n",
       "      <td>None</td>\n",
       "      <td>30.0</td>\n",
       "      <td>20:40</td>\n",
       "      <td>Urban</td>\n",
       "      <td>Fine no high winds</td>\n",
       "      <td>2005</td>\n",
       "      <td>No</td>\n",
       "      <td>1</td>\n",
       "      <td>13</td>\n",
       "      <td>0</td>\n",
       "    </tr>\n",
       "    <tr>\n",
       "      <th>8</th>\n",
       "      <td>200501BS00010</td>\n",
       "      <td>1</td>\n",
       "      <td>3212.0</td>\n",
       "      <td>B</td>\n",
       "      <td>304.0</td>\n",
       "      <td>Slight</td>\n",
       "      <td>None</td>\n",
       "      <td>2005-01-15</td>\n",
       "      <td>Saturday</td>\n",
       "      <td>1.0</td>\n",
       "      <td>...</td>\n",
       "      <td>None</td>\n",
       "      <td>30.0</td>\n",
       "      <td>22:43</td>\n",
       "      <td>Urban</td>\n",
       "      <td>Fine no high winds</td>\n",
       "      <td>2005</td>\n",
       "      <td>No</td>\n",
       "      <td>1</td>\n",
       "      <td>15</td>\n",
       "      <td>0</td>\n",
       "    </tr>\n",
       "    <tr>\n",
       "      <th>9</th>\n",
       "      <td>200501BS00011</td>\n",
       "      <td>2</td>\n",
       "      <td>450.0</td>\n",
       "      <td>C</td>\n",
       "      <td>0.0</td>\n",
       "      <td>Slight</td>\n",
       "      <td>None</td>\n",
       "      <td>2005-01-15</td>\n",
       "      <td>Saturday</td>\n",
       "      <td>1.0</td>\n",
       "      <td>...</td>\n",
       "      <td>None</td>\n",
       "      <td>30.0</td>\n",
       "      <td>16:00</td>\n",
       "      <td>Urban</td>\n",
       "      <td>Fine no high winds</td>\n",
       "      <td>2005</td>\n",
       "      <td>No</td>\n",
       "      <td>1</td>\n",
       "      <td>15</td>\n",
       "      <td>0</td>\n",
       "    </tr>\n",
       "    <tr>\n",
       "      <th>10</th>\n",
       "      <td>200501BS00012</td>\n",
       "      <td>1</td>\n",
       "      <td>4.0</td>\n",
       "      <td>B</td>\n",
       "      <td>325.0</td>\n",
       "      <td>Slight</td>\n",
       "      <td>None</td>\n",
       "      <td>2005-01-16</td>\n",
       "      <td>Sunday</td>\n",
       "      <td>1.0</td>\n",
       "      <td>...</td>\n",
       "      <td>None</td>\n",
       "      <td>30.0</td>\n",
       "      <td>00:42</td>\n",
       "      <td>Urban</td>\n",
       "      <td>Fine no high winds</td>\n",
       "      <td>2005</td>\n",
       "      <td>No</td>\n",
       "      <td>1</td>\n",
       "      <td>16</td>\n",
       "      <td>0</td>\n",
       "    </tr>\n",
       "  </tbody>\n",
       "</table>\n",
       "<p>5 rows × 37 columns</p>\n",
       "</div>"
      ],
      "text/plain": [
       "   Accident_Index  1st_Road_Class  1st_Road_Number 2nd_Road_Class  \\\n",
       "1   200501BS00002               2            450.0              C   \n",
       "6   200501BS00007               3              0.0   Unclassified   \n",
       "8   200501BS00010               1           3212.0              B   \n",
       "9   200501BS00011               2            450.0              C   \n",
       "10  200501BS00012               1              4.0              B   \n",
       "\n",
       "    2nd_Road_Number Accident_Severity Carriageway_Hazards       Date  \\\n",
       "1               0.0            Slight                None 2005-01-05   \n",
       "6               0.0            Slight                None 2005-01-13   \n",
       "8             304.0            Slight                None 2005-01-15   \n",
       "9               0.0            Slight                None 2005-01-15   \n",
       "10            325.0            Slight                None 2005-01-16   \n",
       "\n",
       "   Day_of_Week  Did_Police_Officer_Attend_Scene_of_Accident  ...  \\\n",
       "1    Wednesday                                          1.0  ...   \n",
       "6     Thursday                                          1.0  ...   \n",
       "8     Saturday                                          1.0  ...   \n",
       "9     Saturday                                          1.0  ...   \n",
       "10      Sunday                                          1.0  ...   \n",
       "\n",
       "   Special_Conditions_at_Site Speed_limit   Time Urban_or_Rural_Area  \\\n",
       "1                        None        30.0  17:36               Urban   \n",
       "6                        None        30.0  20:40               Urban   \n",
       "8                        None        30.0  22:43               Urban   \n",
       "9                        None        30.0  16:00               Urban   \n",
       "10                       None        30.0  00:42               Urban   \n",
       "\n",
       "    Weather_Conditions  Year  InScotland  Month  Day Hour of Day  \n",
       "1   Fine no high winds  2005          No      1    5           0  \n",
       "6   Fine no high winds  2005          No      1   13           0  \n",
       "8   Fine no high winds  2005          No      1   15           0  \n",
       "9   Fine no high winds  2005          No      1   15           0  \n",
       "10  Fine no high winds  2005          No      1   16           0  \n",
       "\n",
       "[5 rows x 37 columns]"
      ]
     },
     "execution_count": 76,
     "metadata": {},
     "output_type": "execute_result"
    }
   ],
   "source": [
    "df_original.head()"
   ]
  },
  {
   "cell_type": "code",
   "execution_count": 77,
   "id": "fed9ed6e",
   "metadata": {},
   "outputs": [],
   "source": [
    "df_org = df_original[['Accident_Index',\n",
    "                      '1st_Road_Class',\n",
    "                      'Carriageway_Hazards',\n",
    "                      'Day_of_Week','Junction_Detail','Light_Conditions','Road_Surface_Conditions',\n",
    "                      'Road_Type','Special_Conditions_at_Site','Speed_limit',\n",
    "                      'Date','Time','Urban_or_Rural_Area','Weather_Conditions','Accident_Severity']]"
   ]
  },
  {
   "cell_type": "code",
   "execution_count": 78,
   "id": "195d7edc",
   "metadata": {},
   "outputs": [
    {
     "name": "stderr",
     "output_type": "stream",
     "text": [
      "C:\\Users\\SALONI JHA\\AppData\\Local\\Temp\\ipykernel_21188\\643893032.py:1: SettingWithCopyWarning: \n",
      "A value is trying to be set on a copy of a slice from a DataFrame\n",
      "\n",
      "See the caveats in the documentation: https://pandas.pydata.org/pandas-docs/stable/user_guide/indexing.html#returning-a-view-versus-a-copy\n",
      "  df_org.dropna(axis=1,how='all',inplace=True)\n"
     ]
    }
   ],
   "source": [
    "df_org.dropna(axis=1,how='all',inplace=True)"
   ]
  },
  {
   "cell_type": "code",
   "execution_count": 79,
   "id": "4929f216",
   "metadata": {},
   "outputs": [
    {
     "name": "stderr",
     "output_type": "stream",
     "text": [
      "C:\\Users\\SALONI JHA\\AppData\\Local\\Temp\\ipykernel_21188\\3834057228.py:1: SettingWithCopyWarning: \n",
      "A value is trying to be set on a copy of a slice from a DataFrame\n",
      "\n",
      "See the caveats in the documentation: https://pandas.pydata.org/pandas-docs/stable/user_guide/indexing.html#returning-a-view-versus-a-copy\n",
      "  df_org.replace('', np.nan, inplace=True)\n"
     ]
    }
   ],
   "source": [
    "df_org.replace('', np.nan, inplace=True)"
   ]
  },
  {
   "cell_type": "code",
   "execution_count": 80,
   "id": "a8928ea7",
   "metadata": {},
   "outputs": [
    {
     "name": "stderr",
     "output_type": "stream",
     "text": [
      "C:\\Users\\SALONI JHA\\AppData\\Local\\Temp\\ipykernel_21188\\4241267223.py:1: SettingWithCopyWarning: \n",
      "A value is trying to be set on a copy of a slice from a DataFrame\n",
      "\n",
      "See the caveats in the documentation: https://pandas.pydata.org/pandas-docs/stable/user_guide/indexing.html#returning-a-view-versus-a-copy\n",
      "  df_org.replace('Unknown', np.nan, inplace=True)\n"
     ]
    }
   ],
   "source": [
    "df_org.replace('Unknown', np.nan, inplace=True)"
   ]
  },
  {
   "cell_type": "code",
   "execution_count": 81,
   "id": "c2066ddd",
   "metadata": {},
   "outputs": [
    {
     "name": "stderr",
     "output_type": "stream",
     "text": [
      "C:\\Users\\SALONI JHA\\AppData\\Local\\Temp\\ipykernel_21188\\114732408.py:1: SettingWithCopyWarning: \n",
      "A value is trying to be set on a copy of a slice from a DataFrame\n",
      "\n",
      "See the caveats in the documentation: https://pandas.pydata.org/pandas-docs/stable/user_guide/indexing.html#returning-a-view-versus-a-copy\n",
      "  df_org.dropna(axis=0, inplace=True)\n"
     ]
    }
   ],
   "source": [
    "df_org.dropna(axis=0, inplace=True)"
   ]
  },
  {
   "cell_type": "code",
   "execution_count": 82,
   "id": "7ac274a7",
   "metadata": {},
   "outputs": [
    {
     "name": "stdout",
     "output_type": "stream",
     "text": [
      "0    1091447\n",
      "1      10438\n",
      "Name: Carriageway_Hazards, dtype: int64\n"
     ]
    },
    {
     "name": "stderr",
     "output_type": "stream",
     "text": [
      "C:\\Users\\SALONI JHA\\AppData\\Local\\Temp\\ipykernel_21188\\4171612260.py:5: SettingWithCopyWarning: \n",
      "A value is trying to be set on a copy of a slice from a DataFrame.\n",
      "Try using .loc[row_indexer,col_indexer] = value instead\n",
      "\n",
      "See the caveats in the documentation: https://pandas.pydata.org/pandas-docs/stable/user_guide/indexing.html#returning-a-view-versus-a-copy\n",
      "  df_org.replace(encoding, inplace=True)\n"
     ]
    }
   ],
   "source": [
    "encoding = {\n",
    "\"Carriageway_Hazards\": {\"None\": 0, \"Other object on road\": 1, \"Any animal in carriageway (except ridden horse)\": 1,  \"Pedestrian in carriageway - not injured\": 1, \n",
    "                        \"Previous accident\": 1, \"Vehicle load on road\": 1 }\n",
    "}\n",
    "df_org.replace(encoding, inplace=True)\n",
    "print(df_org['Carriageway_Hazards'].value_counts())"
   ]
  },
  {
   "cell_type": "code",
   "execution_count": 83,
   "id": "7b34f990",
   "metadata": {},
   "outputs": [
    {
     "name": "stdout",
     "output_type": "stream",
     "text": [
      "0    816794\n",
      "1    285091\n",
      "Name: Light_Conditions, dtype: int64\n"
     ]
    },
    {
     "name": "stderr",
     "output_type": "stream",
     "text": [
      "C:\\Users\\SALONI JHA\\AppData\\Local\\Temp\\ipykernel_21188\\1173470185.py:2: SettingWithCopyWarning: \n",
      "A value is trying to be set on a copy of a slice from a DataFrame.\n",
      "Try using .loc[row_indexer,col_indexer] = value instead\n",
      "\n",
      "See the caveats in the documentation: https://pandas.pydata.org/pandas-docs/stable/user_guide/indexing.html#returning-a-view-versus-a-copy\n",
      "  df_org.replace(encoding_light, inplace=True)\n"
     ]
    }
   ],
   "source": [
    "encoding_light = {\"Light_Conditions\": {\"Daylight\": 0, \"Darkness - lights lit\": 1, \"Darkness - no lighting\": 1, \"Darkness - lighting unknown\": 1, \"Darkness - lights unlit\": 1}}\n",
    "df_org.replace(encoding_light, inplace=True)\n",
    "print(df_org['Light_Conditions'].value_counts())"
   ]
  },
  {
   "cell_type": "code",
   "execution_count": 84,
   "id": "d2657122",
   "metadata": {},
   "outputs": [
    {
     "name": "stdout",
     "output_type": "stream",
     "text": [
      "0    1080929\n",
      "1      20956\n",
      "Name: Special_Conditions_at_Site, dtype: int64\n"
     ]
    },
    {
     "name": "stderr",
     "output_type": "stream",
     "text": [
      "C:\\Users\\SALONI JHA\\AppData\\Local\\Temp\\ipykernel_21188\\1021815437.py:2: SettingWithCopyWarning: \n",
      "A value is trying to be set on a copy of a slice from a DataFrame.\n",
      "Try using .loc[row_indexer,col_indexer] = value instead\n",
      "\n",
      "See the caveats in the documentation: https://pandas.pydata.org/pandas-docs/stable/user_guide/indexing.html#returning-a-view-versus-a-copy\n",
      "  df_org.replace(encoding_Special_Conditions_at_Site, inplace=True)\n"
     ]
    }
   ],
   "source": [
    "encoding_Special_Conditions_at_Site = {\"Special_Conditions_at_Site\": {\"None\": 0, \"Roadworks\": 1, \"Oil or diesel\": 1, \"Mud\": 1, \"Road surface defective\": 1, \"Auto traffic signal - out\": 1, \"Road sign or marking defective or obscured\": 1, \"Auto signal part defective\": 1}}\n",
    "df_org.replace(encoding_Special_Conditions_at_Site, inplace=True)\n",
    "print(df_org['Special_Conditions_at_Site'].value_counts())"
   ]
  },
  {
   "cell_type": "code",
   "execution_count": 85,
   "id": "d8d37544",
   "metadata": {},
   "outputs": [
    {
     "name": "stderr",
     "output_type": "stream",
     "text": [
      "C:\\Users\\SALONI JHA\\AppData\\Local\\Temp\\ipykernel_21188\\3421071632.py:11: SettingWithCopyWarning: \n",
      "A value is trying to be set on a copy of a slice from a DataFrame.\n",
      "Try using .loc[row_indexer,col_indexer] = value instead\n",
      "\n",
      "See the caveats in the documentation: https://pandas.pydata.org/pandas-docs/stable/user_guide/indexing.html#returning-a-view-versus-a-copy\n",
      "  df_org.replace(encoding_junction_detail, inplace=True)\n"
     ]
    },
    {
     "data": {
      "text/plain": [
       "2    586128\n",
       "3    180661\n",
       "4    162093\n",
       "5     56091\n",
       "6     46201\n",
       "7     26788\n",
       "8     22659\n",
       "9     20941\n",
       "1       323\n",
       "Name: Junction_Detail, dtype: int64"
      ]
     },
     "execution_count": 85,
     "metadata": {},
     "output_type": "execute_result"
    }
   ],
   "source": [
    "encoding_junction_detail = {\"Junction_Detail\": \n",
    "                            {\"Not at junction or within 20 metres\": 1,\n",
    "                             \"T or staggered junction\": 2,\n",
    "                             \"Crossroads\": 3, \n",
    "                             \"Roundabout\": 4,\n",
    "                             \"Private drive or entrance\": 5,\n",
    "                             \"Other junction\": 6,\n",
    "                             \"Slip road\": 7,\n",
    "                             \"More than 4 arms (not roundabout)\": 8,\n",
    "                             \"Mini-roundabout\": 9 }}\n",
    "df_org.replace(encoding_junction_detail, inplace=True)\n",
    "df_org['Junction_Detail'].value_counts()"
   ]
  },
  {
   "cell_type": "code",
   "execution_count": 86,
   "id": "dac9aad5",
   "metadata": {},
   "outputs": [
    {
     "name": "stderr",
     "output_type": "stream",
     "text": [
      "C:\\Users\\SALONI JHA\\AppData\\Local\\Temp\\ipykernel_21188\\2298087215.py:7: SettingWithCopyWarning: \n",
      "A value is trying to be set on a copy of a slice from a DataFrame.\n",
      "Try using .loc[row_indexer,col_indexer] = value instead\n",
      "\n",
      "See the caveats in the documentation: https://pandas.pydata.org/pandas-docs/stable/user_guide/indexing.html#returning-a-view-versus-a-copy\n",
      "  df_org.replace(encoding_road_surface_cond, inplace=True)\n"
     ]
    },
    {
     "data": {
      "text/plain": [
       "1    796180\n",
       "2    287683\n",
       "3     13219\n",
       "4      4273\n",
       "5       530\n",
       "Name: Road_Surface_Conditions, dtype: int64"
      ]
     },
     "execution_count": 86,
     "metadata": {},
     "output_type": "execute_result"
    }
   ],
   "source": [
    "encoding_road_surface_cond = {\"Road_Surface_Conditions\": \n",
    "                            {\"Dry\": 1,\n",
    "                             \"Wet or damp\": 2,\n",
    "                             \"Frost or ice\": 3, \n",
    "                             \"Snow\": 4,\n",
    "                             \"Flood over 3cm. deep\": 5}}\n",
    "df_org.replace(encoding_road_surface_cond, inplace=True)\n",
    "df_org['Road_Surface_Conditions'].value_counts()"
   ]
  },
  {
   "cell_type": "code",
   "execution_count": 87,
   "id": "a2c42544",
   "metadata": {},
   "outputs": [
    {
     "name": "stderr",
     "output_type": "stream",
     "text": [
      "C:\\Users\\SALONI JHA\\AppData\\Local\\Temp\\ipykernel_21188\\974338170.py:7: SettingWithCopyWarning: \n",
      "A value is trying to be set on a copy of a slice from a DataFrame.\n",
      "Try using .loc[row_indexer,col_indexer] = value instead\n",
      "\n",
      "See the caveats in the documentation: https://pandas.pydata.org/pandas-docs/stable/user_guide/indexing.html#returning-a-view-versus-a-copy\n",
      "  df_org.replace(encoding_road_type, inplace=True)\n"
     ]
    },
    {
     "data": {
      "text/plain": [
       "1    821689\n",
       "3    124558\n",
       "2    117162\n",
       "4     24536\n",
       "5     13940\n",
       "Name: Road_Type, dtype: int64"
      ]
     },
     "execution_count": 87,
     "metadata": {},
     "output_type": "execute_result"
    }
   ],
   "source": [
    "encoding_road_type = {\"Road_Type\": \n",
    "                            {\"Single carriageway\": 1,\n",
    "                             \"Dual carriageway\": 2,\n",
    "                             \"Roundabout\": 3, \n",
    "                             \"One way street\": 4,\n",
    "                             \"Slip road\": 5}}\n",
    "df_org.replace(encoding_road_type, inplace=True)\n",
    "df_org['Road_Type'].value_counts()"
   ]
  },
  {
   "cell_type": "code",
   "execution_count": 88,
   "id": "df5497a0",
   "metadata": {},
   "outputs": [
    {
     "name": "stderr",
     "output_type": "stream",
     "text": [
      "C:\\Users\\SALONI JHA\\AppData\\Local\\Temp\\ipykernel_21188\\1448913924.py:4: SettingWithCopyWarning: \n",
      "A value is trying to be set on a copy of a slice from a DataFrame.\n",
      "Try using .loc[row_indexer,col_indexer] = value instead\n",
      "\n",
      "See the caveats in the documentation: https://pandas.pydata.org/pandas-docs/stable/user_guide/indexing.html#returning-a-view-versus-a-copy\n",
      "  df_org.replace(encoding_urban_rural, inplace=True)\n"
     ]
    },
    {
     "data": {
      "text/plain": [
       "1    835600\n",
       "2    266285\n",
       "Name: Urban_or_Rural_Area, dtype: int64"
      ]
     },
     "execution_count": 88,
     "metadata": {},
     "output_type": "execute_result"
    }
   ],
   "source": [
    "encoding_urban_rural = {\"Urban_or_Rural_Area\": \n",
    "                            {\"Urban\": 1,\n",
    "                             \"Rural\": 2 }}\n",
    "df_org.replace(encoding_urban_rural, inplace=True)\n",
    "df_org['Urban_or_Rural_Area'].value_counts()"
   ]
  },
  {
   "cell_type": "code",
   "execution_count": 89,
   "id": "0bfff667",
   "metadata": {},
   "outputs": [
    {
     "name": "stderr",
     "output_type": "stream",
     "text": [
      "C:\\Users\\SALONI JHA\\AppData\\Local\\Temp\\ipykernel_21188\\657882954.py:10: SettingWithCopyWarning: \n",
      "A value is trying to be set on a copy of a slice from a DataFrame.\n",
      "Try using .loc[row_indexer,col_indexer] = value instead\n",
      "\n",
      "See the caveats in the documentation: https://pandas.pydata.org/pandas-docs/stable/user_guide/indexing.html#returning-a-view-versus-a-copy\n",
      "  df_org.replace(encoding_weather, inplace=True)\n"
     ]
    },
    {
     "data": {
      "text/plain": [
       "1    917524\n",
       "2    126244\n",
       "8     22071\n",
       "4     12523\n",
       "3     12516\n",
       "5      5451\n",
       "6      4842\n",
       "7       714\n",
       "Name: Weather_Conditions, dtype: int64"
      ]
     },
     "execution_count": 89,
     "metadata": {},
     "output_type": "execute_result"
    }
   ],
   "source": [
    "encoding_weather = {\"Weather_Conditions\": \n",
    "                            {\"Fine no high winds\": 1,\n",
    "                             \"Raining no high winds\": 2,\n",
    "                             \"Raining + high winds\": 3,\n",
    "                             \"Fine + high winds\": 4,\n",
    "                             \"Snowing no high winds\": 5,\n",
    "                             \"Fog or mist\": 6,\n",
    "                             \"Snowing + high winds\": 7,\n",
    "                             \"Other\": 8 }}\n",
    "df_org.replace(encoding_weather, inplace=True)\n",
    "df_org['Weather_Conditions'].value_counts()"
   ]
  },
  {
   "cell_type": "code",
   "execution_count": 90,
   "id": "32229cbf",
   "metadata": {},
   "outputs": [
    {
     "ename": "TypeError",
     "evalue": "countplot() got multiple values for argument 'data'",
     "output_type": "error",
     "traceback": [
      "\u001b[1;31m---------------------------------------------------------------------------\u001b[0m",
      "\u001b[1;31mTypeError\u001b[0m                                 Traceback (most recent call last)",
      "Cell \u001b[1;32mIn[90], line 1\u001b[0m\n\u001b[1;32m----> 1\u001b[0m \u001b[43msns\u001b[49m\u001b[38;5;241;43m.\u001b[39;49m\u001b[43mcountplot\u001b[49m\u001b[43m(\u001b[49m\u001b[38;5;124;43m\"\u001b[39;49m\u001b[38;5;124;43mAccident_Severity\u001b[39;49m\u001b[38;5;124;43m\"\u001b[39;49m\u001b[43m,\u001b[49m\u001b[43mdata\u001b[49m\u001b[38;5;241;43m=\u001b[39;49m\u001b[43mdf_org\u001b[49m\u001b[43m)\u001b[49m\n",
      "\u001b[1;31mTypeError\u001b[0m: countplot() got multiple values for argument 'data'"
     ]
    }
   ],
   "source": [
    "sns.countplot(\"Accident_Severity\",data=df_org)"
   ]
  },
  {
   "cell_type": "code",
   "execution_count": 91,
   "id": "15b0c74c",
   "metadata": {
    "scrolled": false
   },
   "outputs": [
    {
     "data": {
      "text/html": [
       "<div>\n",
       "<style scoped>\n",
       "    .dataframe tbody tr th:only-of-type {\n",
       "        vertical-align: middle;\n",
       "    }\n",
       "\n",
       "    .dataframe tbody tr th {\n",
       "        vertical-align: top;\n",
       "    }\n",
       "\n",
       "    .dataframe thead th {\n",
       "        text-align: right;\n",
       "    }\n",
       "</style>\n",
       "<table border=\"1\" class=\"dataframe\">\n",
       "  <thead>\n",
       "    <tr style=\"text-align: right;\">\n",
       "      <th></th>\n",
       "      <th>Accident_Index</th>\n",
       "      <th>1st_Road_Class</th>\n",
       "      <th>Carriageway_Hazards</th>\n",
       "      <th>Day_of_Week</th>\n",
       "      <th>Junction_Detail</th>\n",
       "      <th>Light_Conditions</th>\n",
       "      <th>Road_Surface_Conditions</th>\n",
       "      <th>Road_Type</th>\n",
       "      <th>Special_Conditions_at_Site</th>\n",
       "      <th>Speed_limit</th>\n",
       "      <th>Date</th>\n",
       "      <th>Time</th>\n",
       "      <th>Urban_or_Rural_Area</th>\n",
       "      <th>Weather_Conditions</th>\n",
       "      <th>Accident_Severity</th>\n",
       "    </tr>\n",
       "  </thead>\n",
       "  <tbody>\n",
       "    <tr>\n",
       "      <th>1</th>\n",
       "      <td>200501BS00002</td>\n",
       "      <td>2</td>\n",
       "      <td>0</td>\n",
       "      <td>Wednesday</td>\n",
       "      <td>3</td>\n",
       "      <td>1</td>\n",
       "      <td>1</td>\n",
       "      <td>2</td>\n",
       "      <td>0</td>\n",
       "      <td>30.0</td>\n",
       "      <td>2005-01-05</td>\n",
       "      <td>17:36</td>\n",
       "      <td>1</td>\n",
       "      <td>1</td>\n",
       "      <td>Slight</td>\n",
       "    </tr>\n",
       "    <tr>\n",
       "      <th>6</th>\n",
       "      <td>200501BS00007</td>\n",
       "      <td>3</td>\n",
       "      <td>0</td>\n",
       "      <td>Thursday</td>\n",
       "      <td>2</td>\n",
       "      <td>1</td>\n",
       "      <td>1</td>\n",
       "      <td>1</td>\n",
       "      <td>0</td>\n",
       "      <td>30.0</td>\n",
       "      <td>2005-01-13</td>\n",
       "      <td>20:40</td>\n",
       "      <td>1</td>\n",
       "      <td>1</td>\n",
       "      <td>Slight</td>\n",
       "    </tr>\n",
       "    <tr>\n",
       "      <th>8</th>\n",
       "      <td>200501BS00010</td>\n",
       "      <td>1</td>\n",
       "      <td>0</td>\n",
       "      <td>Saturday</td>\n",
       "      <td>3</td>\n",
       "      <td>1</td>\n",
       "      <td>1</td>\n",
       "      <td>1</td>\n",
       "      <td>0</td>\n",
       "      <td>30.0</td>\n",
       "      <td>2005-01-15</td>\n",
       "      <td>22:43</td>\n",
       "      <td>1</td>\n",
       "      <td>1</td>\n",
       "      <td>Slight</td>\n",
       "    </tr>\n",
       "    <tr>\n",
       "      <th>9</th>\n",
       "      <td>200501BS00011</td>\n",
       "      <td>2</td>\n",
       "      <td>0</td>\n",
       "      <td>Saturday</td>\n",
       "      <td>2</td>\n",
       "      <td>0</td>\n",
       "      <td>1</td>\n",
       "      <td>1</td>\n",
       "      <td>0</td>\n",
       "      <td>30.0</td>\n",
       "      <td>2005-01-15</td>\n",
       "      <td>16:00</td>\n",
       "      <td>1</td>\n",
       "      <td>1</td>\n",
       "      <td>Slight</td>\n",
       "    </tr>\n",
       "    <tr>\n",
       "      <th>10</th>\n",
       "      <td>200501BS00012</td>\n",
       "      <td>1</td>\n",
       "      <td>0</td>\n",
       "      <td>Sunday</td>\n",
       "      <td>3</td>\n",
       "      <td>1</td>\n",
       "      <td>1</td>\n",
       "      <td>1</td>\n",
       "      <td>0</td>\n",
       "      <td>30.0</td>\n",
       "      <td>2005-01-16</td>\n",
       "      <td>00:42</td>\n",
       "      <td>1</td>\n",
       "      <td>1</td>\n",
       "      <td>Slight</td>\n",
       "    </tr>\n",
       "  </tbody>\n",
       "</table>\n",
       "</div>"
      ],
      "text/plain": [
       "   Accident_Index  1st_Road_Class  Carriageway_Hazards Day_of_Week  \\\n",
       "1   200501BS00002               2                    0   Wednesday   \n",
       "6   200501BS00007               3                    0    Thursday   \n",
       "8   200501BS00010               1                    0    Saturday   \n",
       "9   200501BS00011               2                    0    Saturday   \n",
       "10  200501BS00012               1                    0      Sunday   \n",
       "\n",
       "    Junction_Detail  Light_Conditions  Road_Surface_Conditions  Road_Type  \\\n",
       "1                 3                 1                        1          2   \n",
       "6                 2                 1                        1          1   \n",
       "8                 3                 1                        1          1   \n",
       "9                 2                 0                        1          1   \n",
       "10                3                 1                        1          1   \n",
       "\n",
       "    Special_Conditions_at_Site  Speed_limit       Date   Time  \\\n",
       "1                            0         30.0 2005-01-05  17:36   \n",
       "6                            0         30.0 2005-01-13  20:40   \n",
       "8                            0         30.0 2005-01-15  22:43   \n",
       "9                            0         30.0 2005-01-15  16:00   \n",
       "10                           0         30.0 2005-01-16  00:42   \n",
       "\n",
       "    Urban_or_Rural_Area  Weather_Conditions Accident_Severity  \n",
       "1                     1                   1            Slight  \n",
       "6                     1                   1            Slight  \n",
       "8                     1                   1            Slight  \n",
       "9                     1                   1            Slight  \n",
       "10                    1                   1            Slight  "
      ]
     },
     "execution_count": 91,
     "metadata": {},
     "output_type": "execute_result"
    }
   ],
   "source": [
    "df_org.head()\n",
    "\n"
   ]
  },
  {
   "cell_type": "code",
   "execution_count": 92,
   "id": "6678ad56",
   "metadata": {},
   "outputs": [
    {
     "ename": "TypeError",
     "evalue": "countplot() got multiple values for argument 'data'",
     "output_type": "error",
     "traceback": [
      "\u001b[1;31m---------------------------------------------------------------------------\u001b[0m",
      "\u001b[1;31mTypeError\u001b[0m                                 Traceback (most recent call last)",
      "Cell \u001b[1;32mIn[92], line 1\u001b[0m\n\u001b[1;32m----> 1\u001b[0m \u001b[43msns\u001b[49m\u001b[38;5;241;43m.\u001b[39;49m\u001b[43mcountplot\u001b[49m\u001b[43m(\u001b[49m\u001b[38;5;124;43m\"\u001b[39;49m\u001b[38;5;124;43mAccident_Severity\u001b[39;49m\u001b[38;5;124;43m\"\u001b[39;49m\u001b[43m,\u001b[49m\u001b[43mdata\u001b[49m\u001b[38;5;241;43m=\u001b[39;49m\u001b[43mdf_org\u001b[49m\u001b[43m)\u001b[49m\n",
      "\u001b[1;31mTypeError\u001b[0m: countplot() got multiple values for argument 'data'"
     ]
    }
   ],
   "source": [
    "sns.countplot(\"Accident_Severity\",data=df_org)"
   ]
  },
  {
   "cell_type": "code",
   "execution_count": 93,
   "id": "77e5a2dc",
   "metadata": {},
   "outputs": [
    {
     "ename": "AttributeError",
     "evalue": "Rectangle.set() got an unexpected keyword argument 'Data'",
     "output_type": "error",
     "traceback": [
      "\u001b[1;31m---------------------------------------------------------------------------\u001b[0m",
      "\u001b[1;31mAttributeError\u001b[0m                            Traceback (most recent call last)",
      "Cell \u001b[1;32mIn[93], line 1\u001b[0m\n\u001b[1;32m----> 1\u001b[0m \u001b[43msns\u001b[49m\u001b[38;5;241;43m.\u001b[39;49m\u001b[43mcountplot\u001b[49m\u001b[43m(\u001b[49m\u001b[43mData\u001b[49m\u001b[38;5;241;43m=\u001b[39;49m\u001b[43mdf_org\u001b[49m\u001b[43m)\u001b[49m\n\u001b[0;32m      2\u001b[0m plt\u001b[38;5;241m.\u001b[39mshow()\n",
      "File \u001b[1;32m~\\anaconda3\\lib\\site-packages\\seaborn\\categorical.py:2955\u001b[0m, in \u001b[0;36mcountplot\u001b[1;34m(data, x, y, hue, order, hue_order, orient, color, palette, saturation, width, dodge, ax, **kwargs)\u001b[0m\n\u001b[0;32m   2952\u001b[0m \u001b[38;5;28;01mif\u001b[39;00m ax \u001b[38;5;129;01mis\u001b[39;00m \u001b[38;5;28;01mNone\u001b[39;00m:\n\u001b[0;32m   2953\u001b[0m     ax \u001b[38;5;241m=\u001b[39m plt\u001b[38;5;241m.\u001b[39mgca()\n\u001b[1;32m-> 2955\u001b[0m \u001b[43mplotter\u001b[49m\u001b[38;5;241;43m.\u001b[39;49m\u001b[43mplot\u001b[49m\u001b[43m(\u001b[49m\u001b[43max\u001b[49m\u001b[43m,\u001b[49m\u001b[43m \u001b[49m\u001b[43mkwargs\u001b[49m\u001b[43m)\u001b[49m\n\u001b[0;32m   2956\u001b[0m \u001b[38;5;28;01mreturn\u001b[39;00m ax\n",
      "File \u001b[1;32m~\\anaconda3\\lib\\site-packages\\seaborn\\categorical.py:1586\u001b[0m, in \u001b[0;36m_BarPlotter.plot\u001b[1;34m(self, ax, bar_kws)\u001b[0m\n\u001b[0;32m   1584\u001b[0m \u001b[38;5;28;01mdef\u001b[39;00m \u001b[38;5;21mplot\u001b[39m(\u001b[38;5;28mself\u001b[39m, ax, bar_kws):\n\u001b[0;32m   1585\u001b[0m     \u001b[38;5;124;03m\"\"\"Make the plot.\"\"\"\u001b[39;00m\n\u001b[1;32m-> 1586\u001b[0m     \u001b[38;5;28;43mself\u001b[39;49m\u001b[38;5;241;43m.\u001b[39;49m\u001b[43mdraw_bars\u001b[49m\u001b[43m(\u001b[49m\u001b[43max\u001b[49m\u001b[43m,\u001b[49m\u001b[43m \u001b[49m\u001b[43mbar_kws\u001b[49m\u001b[43m)\u001b[49m\n\u001b[0;32m   1587\u001b[0m     \u001b[38;5;28mself\u001b[39m\u001b[38;5;241m.\u001b[39mannotate_axes(ax)\n\u001b[0;32m   1588\u001b[0m     \u001b[38;5;28;01mif\u001b[39;00m \u001b[38;5;28mself\u001b[39m\u001b[38;5;241m.\u001b[39morient \u001b[38;5;241m==\u001b[39m \u001b[38;5;124m\"\u001b[39m\u001b[38;5;124mh\u001b[39m\u001b[38;5;124m\"\u001b[39m:\n",
      "File \u001b[1;32m~\\anaconda3\\lib\\site-packages\\seaborn\\categorical.py:1551\u001b[0m, in \u001b[0;36m_BarPlotter.draw_bars\u001b[1;34m(self, ax, kws)\u001b[0m\n\u001b[0;32m   1546\u001b[0m barpos \u001b[38;5;241m=\u001b[39m np\u001b[38;5;241m.\u001b[39marange(\u001b[38;5;28mlen\u001b[39m(\u001b[38;5;28mself\u001b[39m\u001b[38;5;241m.\u001b[39mstatistic))\n\u001b[0;32m   1548\u001b[0m \u001b[38;5;28;01mif\u001b[39;00m \u001b[38;5;28mself\u001b[39m\u001b[38;5;241m.\u001b[39mplot_hues \u001b[38;5;129;01mis\u001b[39;00m \u001b[38;5;28;01mNone\u001b[39;00m:\n\u001b[0;32m   1549\u001b[0m \n\u001b[0;32m   1550\u001b[0m     \u001b[38;5;66;03m# Draw the bars\u001b[39;00m\n\u001b[1;32m-> 1551\u001b[0m     barfunc(barpos, \u001b[38;5;28mself\u001b[39m\u001b[38;5;241m.\u001b[39mstatistic, \u001b[38;5;28mself\u001b[39m\u001b[38;5;241m.\u001b[39mwidth,\n\u001b[0;32m   1552\u001b[0m             color\u001b[38;5;241m=\u001b[39m\u001b[38;5;28mself\u001b[39m\u001b[38;5;241m.\u001b[39mcolors, align\u001b[38;5;241m=\u001b[39m\u001b[38;5;124m\"\u001b[39m\u001b[38;5;124mcenter\u001b[39m\u001b[38;5;124m\"\u001b[39m, \u001b[38;5;241m*\u001b[39m\u001b[38;5;241m*\u001b[39mkws)\n\u001b[0;32m   1554\u001b[0m     \u001b[38;5;66;03m# Draw the confidence intervals\u001b[39;00m\n\u001b[0;32m   1555\u001b[0m     errcolors \u001b[38;5;241m=\u001b[39m [\u001b[38;5;28mself\u001b[39m\u001b[38;5;241m.\u001b[39merrcolor] \u001b[38;5;241m*\u001b[39m \u001b[38;5;28mlen\u001b[39m(barpos)\n",
      "File \u001b[1;32m~\\anaconda3\\lib\\site-packages\\matplotlib\\__init__.py:1442\u001b[0m, in \u001b[0;36m_preprocess_data.<locals>.inner\u001b[1;34m(ax, data, *args, **kwargs)\u001b[0m\n\u001b[0;32m   1439\u001b[0m \u001b[38;5;129m@functools\u001b[39m\u001b[38;5;241m.\u001b[39mwraps(func)\n\u001b[0;32m   1440\u001b[0m \u001b[38;5;28;01mdef\u001b[39;00m \u001b[38;5;21minner\u001b[39m(ax, \u001b[38;5;241m*\u001b[39margs, data\u001b[38;5;241m=\u001b[39m\u001b[38;5;28;01mNone\u001b[39;00m, \u001b[38;5;241m*\u001b[39m\u001b[38;5;241m*\u001b[39mkwargs):\n\u001b[0;32m   1441\u001b[0m     \u001b[38;5;28;01mif\u001b[39;00m data \u001b[38;5;129;01mis\u001b[39;00m \u001b[38;5;28;01mNone\u001b[39;00m:\n\u001b[1;32m-> 1442\u001b[0m         \u001b[38;5;28;01mreturn\u001b[39;00m func(ax, \u001b[38;5;241m*\u001b[39m\u001b[38;5;28mmap\u001b[39m(sanitize_sequence, args), \u001b[38;5;241m*\u001b[39m\u001b[38;5;241m*\u001b[39mkwargs)\n\u001b[0;32m   1444\u001b[0m     bound \u001b[38;5;241m=\u001b[39m new_sig\u001b[38;5;241m.\u001b[39mbind(ax, \u001b[38;5;241m*\u001b[39margs, \u001b[38;5;241m*\u001b[39m\u001b[38;5;241m*\u001b[39mkwargs)\n\u001b[0;32m   1445\u001b[0m     auto_label \u001b[38;5;241m=\u001b[39m (bound\u001b[38;5;241m.\u001b[39marguments\u001b[38;5;241m.\u001b[39mget(label_namer)\n\u001b[0;32m   1446\u001b[0m                   \u001b[38;5;129;01mor\u001b[39;00m bound\u001b[38;5;241m.\u001b[39mkwargs\u001b[38;5;241m.\u001b[39mget(label_namer))\n",
      "File \u001b[1;32m~\\anaconda3\\lib\\site-packages\\matplotlib\\axes\\_axes.py:2488\u001b[0m, in \u001b[0;36mAxes.bar\u001b[1;34m(self, x, height, width, bottom, align, **kwargs)\u001b[0m\n\u001b[0;32m   2479\u001b[0m \u001b[38;5;28;01mfor\u001b[39;00m l, b, w, h, c, e, lw, htch, lbl \u001b[38;5;129;01min\u001b[39;00m args:\n\u001b[0;32m   2480\u001b[0m     r \u001b[38;5;241m=\u001b[39m mpatches\u001b[38;5;241m.\u001b[39mRectangle(\n\u001b[0;32m   2481\u001b[0m         xy\u001b[38;5;241m=\u001b[39m(l, b), width\u001b[38;5;241m=\u001b[39mw, height\u001b[38;5;241m=\u001b[39mh,\n\u001b[0;32m   2482\u001b[0m         facecolor\u001b[38;5;241m=\u001b[39mc,\n\u001b[1;32m   (...)\u001b[0m\n\u001b[0;32m   2486\u001b[0m         hatch\u001b[38;5;241m=\u001b[39mhtch,\n\u001b[0;32m   2487\u001b[0m         )\n\u001b[1;32m-> 2488\u001b[0m     \u001b[43mr\u001b[49m\u001b[38;5;241;43m.\u001b[39;49m\u001b[43m_internal_update\u001b[49m\u001b[43m(\u001b[49m\u001b[43mkwargs\u001b[49m\u001b[43m)\u001b[49m\n\u001b[0;32m   2489\u001b[0m     r\u001b[38;5;241m.\u001b[39mget_path()\u001b[38;5;241m.\u001b[39m_interpolation_steps \u001b[38;5;241m=\u001b[39m \u001b[38;5;241m100\u001b[39m\n\u001b[0;32m   2490\u001b[0m     \u001b[38;5;28;01mif\u001b[39;00m orientation \u001b[38;5;241m==\u001b[39m \u001b[38;5;124m'\u001b[39m\u001b[38;5;124mvertical\u001b[39m\u001b[38;5;124m'\u001b[39m:\n",
      "File \u001b[1;32m~\\anaconda3\\lib\\site-packages\\matplotlib\\artist.py:1223\u001b[0m, in \u001b[0;36mArtist._internal_update\u001b[1;34m(self, kwargs)\u001b[0m\n\u001b[0;32m   1216\u001b[0m \u001b[38;5;28;01mdef\u001b[39;00m \u001b[38;5;21m_internal_update\u001b[39m(\u001b[38;5;28mself\u001b[39m, kwargs):\n\u001b[0;32m   1217\u001b[0m     \u001b[38;5;124;03m\"\"\"\u001b[39;00m\n\u001b[0;32m   1218\u001b[0m \u001b[38;5;124;03m    Update artist properties without prenormalizing them, but generating\u001b[39;00m\n\u001b[0;32m   1219\u001b[0m \u001b[38;5;124;03m    errors as if calling `set`.\u001b[39;00m\n\u001b[0;32m   1220\u001b[0m \n\u001b[0;32m   1221\u001b[0m \u001b[38;5;124;03m    The lack of prenormalization is to maintain backcompatibility.\u001b[39;00m\n\u001b[0;32m   1222\u001b[0m \u001b[38;5;124;03m    \"\"\"\u001b[39;00m\n\u001b[1;32m-> 1223\u001b[0m     \u001b[38;5;28;01mreturn\u001b[39;00m \u001b[38;5;28;43mself\u001b[39;49m\u001b[38;5;241;43m.\u001b[39;49m\u001b[43m_update_props\u001b[49m\u001b[43m(\u001b[49m\n\u001b[0;32m   1224\u001b[0m \u001b[43m        \u001b[49m\u001b[43mkwargs\u001b[49m\u001b[43m,\u001b[49m\u001b[43m \u001b[49m\u001b[38;5;124;43m\"\u001b[39;49m\u001b[38;5;132;43;01m{cls.__name__}\u001b[39;49;00m\u001b[38;5;124;43m.set() got an unexpected keyword argument \u001b[39;49m\u001b[38;5;124;43m\"\u001b[39;49m\n\u001b[0;32m   1225\u001b[0m \u001b[43m        \u001b[49m\u001b[38;5;124;43m\"\u001b[39;49m\u001b[38;5;132;43;01m{prop_name!r}\u001b[39;49;00m\u001b[38;5;124;43m\"\u001b[39;49m\u001b[43m)\u001b[49m\n",
      "File \u001b[1;32m~\\anaconda3\\lib\\site-packages\\matplotlib\\artist.py:1197\u001b[0m, in \u001b[0;36mArtist._update_props\u001b[1;34m(self, props, errfmt)\u001b[0m\n\u001b[0;32m   1195\u001b[0m             func \u001b[38;5;241m=\u001b[39m \u001b[38;5;28mgetattr\u001b[39m(\u001b[38;5;28mself\u001b[39m, \u001b[38;5;124mf\u001b[39m\u001b[38;5;124m\"\u001b[39m\u001b[38;5;124mset_\u001b[39m\u001b[38;5;132;01m{\u001b[39;00mk\u001b[38;5;132;01m}\u001b[39;00m\u001b[38;5;124m\"\u001b[39m, \u001b[38;5;28;01mNone\u001b[39;00m)\n\u001b[0;32m   1196\u001b[0m             \u001b[38;5;28;01mif\u001b[39;00m \u001b[38;5;129;01mnot\u001b[39;00m callable(func):\n\u001b[1;32m-> 1197\u001b[0m                 \u001b[38;5;28;01mraise\u001b[39;00m \u001b[38;5;167;01mAttributeError\u001b[39;00m(\n\u001b[0;32m   1198\u001b[0m                     errfmt\u001b[38;5;241m.\u001b[39mformat(\u001b[38;5;28mcls\u001b[39m\u001b[38;5;241m=\u001b[39m\u001b[38;5;28mtype\u001b[39m(\u001b[38;5;28mself\u001b[39m), prop_name\u001b[38;5;241m=\u001b[39mk))\n\u001b[0;32m   1199\u001b[0m             ret\u001b[38;5;241m.\u001b[39mappend(func(v))\n\u001b[0;32m   1200\u001b[0m \u001b[38;5;28;01mif\u001b[39;00m ret:\n",
      "\u001b[1;31mAttributeError\u001b[0m: Rectangle.set() got an unexpected keyword argument 'Data'"
     ]
    },
    {
     "data": {
      "image/png": "[encoded data removed]",
      "text/plain": [
       "<Figure size 640x480 with 1 Axes>"
      ]
     },
     "metadata": {},
     "output_type": "display_data"
    }
   ],
   "source": [
    "sns.countplot(Data=df_org)\n",
    "plt.show()"
   ]
  },
  {
   "cell_type": "code",
   "execution_count": 94,
   "id": "79087ec3",
   "metadata": {},
   "outputs": [
    {
     "ename": "ValueError",
     "evalue": "Could not interpret input 'Accident_Severity'",
     "output_type": "error",
     "traceback": [
      "\u001b[1;31m---------------------------------------------------------------------------\u001b[0m",
      "\u001b[1;31mValueError\u001b[0m                                Traceback (most recent call last)",
      "Cell \u001b[1;32mIn[94], line 1\u001b[0m\n\u001b[1;32m----> 1\u001b[0m \u001b[43msns\u001b[49m\u001b[38;5;241;43m.\u001b[39;49m\u001b[43mcountplot\u001b[49m\u001b[43m(\u001b[49m\u001b[43mData\u001b[49m\u001b[38;5;241;43m=\u001b[39;49m\u001b[43mdf_org\u001b[49m\u001b[43m,\u001b[49m\n\u001b[0;32m      2\u001b[0m \u001b[43m             \u001b[49m\u001b[43mx\u001b[49m\u001b[38;5;241;43m=\u001b[39;49m\u001b[38;5;124;43m\"\u001b[39;49m\u001b[38;5;124;43mAccident_Severity\u001b[39;49m\u001b[38;5;124;43m\"\u001b[39;49m\u001b[43m)\u001b[49m\n\u001b[0;32m      3\u001b[0m plt\u001b[38;5;241m.\u001b[39mshow()\n",
      "File \u001b[1;32m~\\anaconda3\\lib\\site-packages\\seaborn\\categorical.py:2943\u001b[0m, in \u001b[0;36mcountplot\u001b[1;34m(data, x, y, hue, order, hue_order, orient, color, palette, saturation, width, dodge, ax, **kwargs)\u001b[0m\n\u001b[0;32m   2940\u001b[0m \u001b[38;5;28;01melif\u001b[39;00m x \u001b[38;5;129;01mis\u001b[39;00m \u001b[38;5;129;01mnot\u001b[39;00m \u001b[38;5;28;01mNone\u001b[39;00m \u001b[38;5;129;01mand\u001b[39;00m y \u001b[38;5;129;01mis\u001b[39;00m \u001b[38;5;129;01mnot\u001b[39;00m \u001b[38;5;28;01mNone\u001b[39;00m:\n\u001b[0;32m   2941\u001b[0m     \u001b[38;5;28;01mraise\u001b[39;00m \u001b[38;5;167;01mValueError\u001b[39;00m(\u001b[38;5;124m\"\u001b[39m\u001b[38;5;124mCannot pass values for both `x` and `y`\u001b[39m\u001b[38;5;124m\"\u001b[39m)\n\u001b[1;32m-> 2943\u001b[0m plotter \u001b[38;5;241m=\u001b[39m \u001b[43m_CountPlotter\u001b[49m\u001b[43m(\u001b[49m\n\u001b[0;32m   2944\u001b[0m \u001b[43m    \u001b[49m\u001b[43mx\u001b[49m\u001b[43m,\u001b[49m\u001b[43m \u001b[49m\u001b[43my\u001b[49m\u001b[43m,\u001b[49m\u001b[43m \u001b[49m\u001b[43mhue\u001b[49m\u001b[43m,\u001b[49m\u001b[43m \u001b[49m\u001b[43mdata\u001b[49m\u001b[43m,\u001b[49m\u001b[43m \u001b[49m\u001b[43morder\u001b[49m\u001b[43m,\u001b[49m\u001b[43m \u001b[49m\u001b[43mhue_order\u001b[49m\u001b[43m,\u001b[49m\n\u001b[0;32m   2945\u001b[0m \u001b[43m    \u001b[49m\u001b[43mestimator\u001b[49m\u001b[43m,\u001b[49m\u001b[43m \u001b[49m\u001b[43merrorbar\u001b[49m\u001b[43m,\u001b[49m\u001b[43m \u001b[49m\u001b[43mn_boot\u001b[49m\u001b[43m,\u001b[49m\u001b[43m \u001b[49m\u001b[43munits\u001b[49m\u001b[43m,\u001b[49m\u001b[43m \u001b[49m\u001b[43mseed\u001b[49m\u001b[43m,\u001b[49m\n\u001b[0;32m   2946\u001b[0m \u001b[43m    \u001b[49m\u001b[43morient\u001b[49m\u001b[43m,\u001b[49m\u001b[43m \u001b[49m\u001b[43mcolor\u001b[49m\u001b[43m,\u001b[49m\u001b[43m \u001b[49m\u001b[43mpalette\u001b[49m\u001b[43m,\u001b[49m\u001b[43m \u001b[49m\u001b[43msaturation\u001b[49m\u001b[43m,\u001b[49m\n\u001b[0;32m   2947\u001b[0m \u001b[43m    \u001b[49m\u001b[43mwidth\u001b[49m\u001b[43m,\u001b[49m\u001b[43m \u001b[49m\u001b[43merrcolor\u001b[49m\u001b[43m,\u001b[49m\u001b[43m \u001b[49m\u001b[43merrwidth\u001b[49m\u001b[43m,\u001b[49m\u001b[43m \u001b[49m\u001b[43mcapsize\u001b[49m\u001b[43m,\u001b[49m\u001b[43m \u001b[49m\u001b[43mdodge\u001b[49m\n\u001b[0;32m   2948\u001b[0m \u001b[43m\u001b[49m\u001b[43m)\u001b[49m\n\u001b[0;32m   2950\u001b[0m plotter\u001b[38;5;241m.\u001b[39mvalue_label \u001b[38;5;241m=\u001b[39m \u001b[38;5;124m\"\u001b[39m\u001b[38;5;124mcount\u001b[39m\u001b[38;5;124m\"\u001b[39m\n\u001b[0;32m   2952\u001b[0m \u001b[38;5;28;01mif\u001b[39;00m ax \u001b[38;5;129;01mis\u001b[39;00m \u001b[38;5;28;01mNone\u001b[39;00m:\n",
      "File \u001b[1;32m~\\anaconda3\\lib\\site-packages\\seaborn\\categorical.py:1530\u001b[0m, in \u001b[0;36m_BarPlotter.__init__\u001b[1;34m(self, x, y, hue, data, order, hue_order, estimator, errorbar, n_boot, units, seed, orient, color, palette, saturation, width, errcolor, errwidth, capsize, dodge)\u001b[0m\n\u001b[0;32m   1525\u001b[0m \u001b[38;5;28;01mdef\u001b[39;00m \u001b[38;5;21m__init__\u001b[39m(\u001b[38;5;28mself\u001b[39m, x, y, hue, data, order, hue_order,\n\u001b[0;32m   1526\u001b[0m              estimator, errorbar, n_boot, units, seed,\n\u001b[0;32m   1527\u001b[0m              orient, color, palette, saturation, width,\n\u001b[0;32m   1528\u001b[0m              errcolor, errwidth, capsize, dodge):\n\u001b[0;32m   1529\u001b[0m     \u001b[38;5;124;03m\"\"\"Initialize the plotter.\"\"\"\u001b[39;00m\n\u001b[1;32m-> 1530\u001b[0m     \u001b[38;5;28;43mself\u001b[39;49m\u001b[38;5;241;43m.\u001b[39;49m\u001b[43mestablish_variables\u001b[49m\u001b[43m(\u001b[49m\u001b[43mx\u001b[49m\u001b[43m,\u001b[49m\u001b[43m \u001b[49m\u001b[43my\u001b[49m\u001b[43m,\u001b[49m\u001b[43m \u001b[49m\u001b[43mhue\u001b[49m\u001b[43m,\u001b[49m\u001b[43m \u001b[49m\u001b[43mdata\u001b[49m\u001b[43m,\u001b[49m\u001b[43m \u001b[49m\u001b[43morient\u001b[49m\u001b[43m,\u001b[49m\n\u001b[0;32m   1531\u001b[0m \u001b[43m                             \u001b[49m\u001b[43morder\u001b[49m\u001b[43m,\u001b[49m\u001b[43m \u001b[49m\u001b[43mhue_order\u001b[49m\u001b[43m,\u001b[49m\u001b[43m \u001b[49m\u001b[43munits\u001b[49m\u001b[43m)\u001b[49m\n\u001b[0;32m   1532\u001b[0m     \u001b[38;5;28mself\u001b[39m\u001b[38;5;241m.\u001b[39mestablish_colors(color, palette, saturation)\n\u001b[0;32m   1533\u001b[0m     \u001b[38;5;28mself\u001b[39m\u001b[38;5;241m.\u001b[39mestimate_statistic(estimator, errorbar, n_boot, seed)\n",
      "File \u001b[1;32m~\\anaconda3\\lib\\site-packages\\seaborn\\categorical.py:541\u001b[0m, in \u001b[0;36m_CategoricalPlotter.establish_variables\u001b[1;34m(self, x, y, hue, data, orient, order, hue_order, units)\u001b[0m\n\u001b[0;32m    539\u001b[0m     \u001b[38;5;28;01mif\u001b[39;00m \u001b[38;5;28misinstance\u001b[39m(var, \u001b[38;5;28mstr\u001b[39m):\n\u001b[0;32m    540\u001b[0m         err \u001b[38;5;241m=\u001b[39m \u001b[38;5;124mf\u001b[39m\u001b[38;5;124m\"\u001b[39m\u001b[38;5;124mCould not interpret input \u001b[39m\u001b[38;5;124m'\u001b[39m\u001b[38;5;132;01m{\u001b[39;00mvar\u001b[38;5;132;01m}\u001b[39;00m\u001b[38;5;124m'\u001b[39m\u001b[38;5;124m\"\u001b[39m\n\u001b[1;32m--> 541\u001b[0m         \u001b[38;5;28;01mraise\u001b[39;00m \u001b[38;5;167;01mValueError\u001b[39;00m(err)\n\u001b[0;32m    543\u001b[0m \u001b[38;5;66;03m# Figure out the plotting orientation\u001b[39;00m\n\u001b[0;32m    544\u001b[0m orient \u001b[38;5;241m=\u001b[39m infer_orient(\n\u001b[0;32m    545\u001b[0m     x, y, orient, require_numeric\u001b[38;5;241m=\u001b[39m\u001b[38;5;28mself\u001b[39m\u001b[38;5;241m.\u001b[39mrequire_numeric\n\u001b[0;32m    546\u001b[0m )\n",
      "\u001b[1;31mValueError\u001b[0m: Could not interpret input 'Accident_Severity'"
     ]
    }
   ],
   "source": [
    "sns.countplot(Data=df_org,\n",
    "             x=\"Accident_Severity\")\n",
    "plt.show()"
   ]
  },
  {
   "cell_type": "code",
   "execution_count": 95,
   "id": "7bda0cce",
   "metadata": {},
   "outputs": [],
   "source": [
    "sns.set_theme(style=\"darkgrid\")"
   ]
  },
  {
   "cell_type": "code",
   "execution_count": 96,
   "id": "321bdb60",
   "metadata": {},
   "outputs": [
    {
     "ename": "SyntaxError",
     "evalue": "invalid syntax (3230921961.py, line 1)",
     "output_type": "error",
     "traceback": [
      "\u001b[1;36m  Cell \u001b[1;32mIn[96], line 1\u001b[1;36m\u001b[0m\n\u001b[1;33m    df_org=sns.load dataset(df_org)\u001b[0m\n\u001b[1;37m                    ^\u001b[0m\n\u001b[1;31mSyntaxError\u001b[0m\u001b[1;31m:\u001b[0m invalid syntax\n"
     ]
    }
   ],
   "source": [
    "df_org=sns.load dataset(df_org)"
   ]
  },
  {
   "cell_type": "code",
   "execution_count": 97,
   "id": "ac0e05f4",
   "metadata": {},
   "outputs": [
    {
     "ename": "TypeError",
     "evalue": "This function accepts only strings (the name of an example dataset). You passed a pandas DataFrame. If you have your own dataset, it is not necessary to use this function before plotting.",
     "output_type": "error",
     "traceback": [
      "\u001b[1;31m---------------------------------------------------------------------------\u001b[0m",
      "\u001b[1;31mTypeError\u001b[0m                                 Traceback (most recent call last)",
      "Cell \u001b[1;32mIn[97], line 1\u001b[0m\n\u001b[1;32m----> 1\u001b[0m df_org\u001b[38;5;241m=\u001b[39m\u001b[43msns\u001b[49m\u001b[38;5;241;43m.\u001b[39;49m\u001b[43mload_dataset\u001b[49m\u001b[43m(\u001b[49m\u001b[43mdf_org\u001b[49m\u001b[43m)\u001b[49m\n",
      "File \u001b[1;32m~\\anaconda3\\lib\\site-packages\\seaborn\\utils.py:579\u001b[0m, in \u001b[0;36mload_dataset\u001b[1;34m(name, cache, data_home, **kws)\u001b[0m\n\u001b[0;32m    573\u001b[0m \u001b[38;5;28;01mif\u001b[39;00m \u001b[38;5;28misinstance\u001b[39m(name, pd\u001b[38;5;241m.\u001b[39mDataFrame):\n\u001b[0;32m    574\u001b[0m     err \u001b[38;5;241m=\u001b[39m (\n\u001b[0;32m    575\u001b[0m         \u001b[38;5;124m\"\u001b[39m\u001b[38;5;124mThis function accepts only strings (the name of an example dataset). \u001b[39m\u001b[38;5;124m\"\u001b[39m\n\u001b[0;32m    576\u001b[0m         \u001b[38;5;124m\"\u001b[39m\u001b[38;5;124mYou passed a pandas DataFrame. If you have your own dataset, \u001b[39m\u001b[38;5;124m\"\u001b[39m\n\u001b[0;32m    577\u001b[0m         \u001b[38;5;124m\"\u001b[39m\u001b[38;5;124mit is not necessary to use this function before plotting.\u001b[39m\u001b[38;5;124m\"\u001b[39m\n\u001b[0;32m    578\u001b[0m     )\n\u001b[1;32m--> 579\u001b[0m     \u001b[38;5;28;01mraise\u001b[39;00m \u001b[38;5;167;01mTypeError\u001b[39;00m(err)\n\u001b[0;32m    581\u001b[0m url \u001b[38;5;241m=\u001b[39m \u001b[38;5;124mf\u001b[39m\u001b[38;5;124m\"\u001b[39m\u001b[38;5;124mhttps://raw.githubusercontent.com/mwaskom/seaborn-data/master/\u001b[39m\u001b[38;5;132;01m{\u001b[39;00mname\u001b[38;5;132;01m}\u001b[39;00m\u001b[38;5;124m.csv\u001b[39m\u001b[38;5;124m\"\u001b[39m\n\u001b[0;32m    583\u001b[0m \u001b[38;5;28;01mif\u001b[39;00m cache:\n",
      "\u001b[1;31mTypeError\u001b[0m: This function accepts only strings (the name of an example dataset). You passed a pandas DataFrame. If you have your own dataset, it is not necessary to use this function before plotting."
     ]
    }
   ],
   "source": [
    "df_org=sns.load_dataset(df_org)"
   ]
  },
  {
   "cell_type": "code",
   "execution_count": 98,
   "id": "28ff8bf4",
   "metadata": {},
   "outputs": [
    {
     "data": {
      "image/png": "[encoded data removed]",
      "text/plain": [
       "<Figure size 640x480 with 1 Axes>"
      ]
     },
     "metadata": {},
     "output_type": "display_data"
    }
   ],
   "source": [
    "sns.countplot(data=df_org)\n",
    "plt.show()"
   ]
  },
  {
   "cell_type": "code",
   "execution_count": 99,
   "id": "87a37681",
   "metadata": {},
   "outputs": [
    {
     "data": {
      "image/png": "[encoded data removed]",
      "text/plain": [
       "<Figure size 640x480 with 1 Axes>"
      ]
     },
     "metadata": {},
     "output_type": "display_data"
    }
   ],
   "source": [
    "sns.countplot(data=df_org,x=\"Accident_Severity\")\n",
    "plt.show()"
   ]
  },
  {
   "cell_type": "code",
   "execution_count": null,
   "id": "28d31456",
   "metadata": {},
   "outputs": [],
   "source": [
    "sns.set()\n",
    "sns.pairplot(df_org,hue='Accident_Severity',dropna=True)"
   ]
  },
  {
   "cell_type": "code",
   "execution_count": 101,
   "id": "f6dc47b4",
   "metadata": {},
   "outputs": [
    {
     "data": {
      "text/html": [
       "<div>\n",
       "<style scoped>\n",
       "    .dataframe tbody tr th:only-of-type {\n",
       "        vertical-align: middle;\n",
       "    }\n",
       "\n",
       "    .dataframe tbody tr th {\n",
       "        vertical-align: top;\n",
       "    }\n",
       "\n",
       "    .dataframe thead th {\n",
       "        text-align: right;\n",
       "    }\n",
       "</style>\n",
       "<table border=\"1\" class=\"dataframe\">\n",
       "  <thead>\n",
       "    <tr style=\"text-align: right;\">\n",
       "      <th></th>\n",
       "      <th>Accident_Index</th>\n",
       "      <th>1st_Road_Class</th>\n",
       "      <th>Carriageway_Hazards</th>\n",
       "      <th>Day_of_Week</th>\n",
       "      <th>Junction_Detail</th>\n",
       "      <th>Light_Conditions</th>\n",
       "      <th>Road_Surface_Conditions</th>\n",
       "      <th>Road_Type</th>\n",
       "      <th>Special_Conditions_at_Site</th>\n",
       "      <th>Speed_limit</th>\n",
       "      <th>Date</th>\n",
       "      <th>Time</th>\n",
       "      <th>Urban_or_Rural_Area</th>\n",
       "      <th>Weather_Conditions</th>\n",
       "      <th>Accident_Severity</th>\n",
       "    </tr>\n",
       "  </thead>\n",
       "  <tbody>\n",
       "    <tr>\n",
       "      <th>1</th>\n",
       "      <td>200501BS00002</td>\n",
       "      <td>2</td>\n",
       "      <td>0</td>\n",
       "      <td>Wednesday</td>\n",
       "      <td>3</td>\n",
       "      <td>1</td>\n",
       "      <td>1</td>\n",
       "      <td>2</td>\n",
       "      <td>0</td>\n",
       "      <td>30.0</td>\n",
       "      <td>2005-01-05</td>\n",
       "      <td>17:36</td>\n",
       "      <td>1</td>\n",
       "      <td>1</td>\n",
       "      <td>Slight</td>\n",
       "    </tr>\n",
       "    <tr>\n",
       "      <th>6</th>\n",
       "      <td>200501BS00007</td>\n",
       "      <td>3</td>\n",
       "      <td>0</td>\n",
       "      <td>Thursday</td>\n",
       "      <td>2</td>\n",
       "      <td>1</td>\n",
       "      <td>1</td>\n",
       "      <td>1</td>\n",
       "      <td>0</td>\n",
       "      <td>30.0</td>\n",
       "      <td>2005-01-13</td>\n",
       "      <td>20:40</td>\n",
       "      <td>1</td>\n",
       "      <td>1</td>\n",
       "      <td>Slight</td>\n",
       "    </tr>\n",
       "    <tr>\n",
       "      <th>8</th>\n",
       "      <td>200501BS00010</td>\n",
       "      <td>1</td>\n",
       "      <td>0</td>\n",
       "      <td>Saturday</td>\n",
       "      <td>3</td>\n",
       "      <td>1</td>\n",
       "      <td>1</td>\n",
       "      <td>1</td>\n",
       "      <td>0</td>\n",
       "      <td>30.0</td>\n",
       "      <td>2005-01-15</td>\n",
       "      <td>22:43</td>\n",
       "      <td>1</td>\n",
       "      <td>1</td>\n",
       "      <td>Slight</td>\n",
       "    </tr>\n",
       "    <tr>\n",
       "      <th>9</th>\n",
       "      <td>200501BS00011</td>\n",
       "      <td>2</td>\n",
       "      <td>0</td>\n",
       "      <td>Saturday</td>\n",
       "      <td>2</td>\n",
       "      <td>0</td>\n",
       "      <td>1</td>\n",
       "      <td>1</td>\n",
       "      <td>0</td>\n",
       "      <td>30.0</td>\n",
       "      <td>2005-01-15</td>\n",
       "      <td>16:00</td>\n",
       "      <td>1</td>\n",
       "      <td>1</td>\n",
       "      <td>Slight</td>\n",
       "    </tr>\n",
       "    <tr>\n",
       "      <th>10</th>\n",
       "      <td>200501BS00012</td>\n",
       "      <td>1</td>\n",
       "      <td>0</td>\n",
       "      <td>Sunday</td>\n",
       "      <td>3</td>\n",
       "      <td>1</td>\n",
       "      <td>1</td>\n",
       "      <td>1</td>\n",
       "      <td>0</td>\n",
       "      <td>30.0</td>\n",
       "      <td>2005-01-16</td>\n",
       "      <td>00:42</td>\n",
       "      <td>1</td>\n",
       "      <td>1</td>\n",
       "      <td>Slight</td>\n",
       "    </tr>\n",
       "    <tr>\n",
       "      <th>...</th>\n",
       "      <td>...</td>\n",
       "      <td>...</td>\n",
       "      <td>...</td>\n",
       "      <td>...</td>\n",
       "      <td>...</td>\n",
       "      <td>...</td>\n",
       "      <td>...</td>\n",
       "      <td>...</td>\n",
       "      <td>...</td>\n",
       "      <td>...</td>\n",
       "      <td>...</td>\n",
       "      <td>...</td>\n",
       "      <td>...</td>\n",
       "      <td>...</td>\n",
       "      <td>...</td>\n",
       "    </tr>\n",
       "    <tr>\n",
       "      <th>2040128</th>\n",
       "      <td>201763DP06517</td>\n",
       "      <td>1</td>\n",
       "      <td>0</td>\n",
       "      <td>Wednesday</td>\n",
       "      <td>2</td>\n",
       "      <td>0</td>\n",
       "      <td>1</td>\n",
       "      <td>1</td>\n",
       "      <td>0</td>\n",
       "      <td>60.0</td>\n",
       "      <td>2017-03-08</td>\n",
       "      <td>15:20</td>\n",
       "      <td>2</td>\n",
       "      <td>1</td>\n",
       "      <td>Slight</td>\n",
       "    </tr>\n",
       "    <tr>\n",
       "      <th>2040130</th>\n",
       "      <td>201763DP06717</td>\n",
       "      <td>1</td>\n",
       "      <td>0</td>\n",
       "      <td>Wednesday</td>\n",
       "      <td>2</td>\n",
       "      <td>0</td>\n",
       "      <td>1</td>\n",
       "      <td>1</td>\n",
       "      <td>0</td>\n",
       "      <td>30.0</td>\n",
       "      <td>2017-03-15</td>\n",
       "      <td>13:45</td>\n",
       "      <td>1</td>\n",
       "      <td>1</td>\n",
       "      <td>Slight</td>\n",
       "    </tr>\n",
       "    <tr>\n",
       "      <th>2040138</th>\n",
       "      <td>201763DP07517</td>\n",
       "      <td>2</td>\n",
       "      <td>0</td>\n",
       "      <td>Monday</td>\n",
       "      <td>5</td>\n",
       "      <td>0</td>\n",
       "      <td>2</td>\n",
       "      <td>1</td>\n",
       "      <td>0</td>\n",
       "      <td>60.0</td>\n",
       "      <td>2017-03-20</td>\n",
       "      <td>11:45</td>\n",
       "      <td>2</td>\n",
       "      <td>2</td>\n",
       "      <td>Serious</td>\n",
       "    </tr>\n",
       "    <tr>\n",
       "      <th>2040140</th>\n",
       "      <td>201763DP07717</td>\n",
       "      <td>1</td>\n",
       "      <td>0</td>\n",
       "      <td>Friday</td>\n",
       "      <td>2</td>\n",
       "      <td>0</td>\n",
       "      <td>4</td>\n",
       "      <td>1</td>\n",
       "      <td>0</td>\n",
       "      <td>30.0</td>\n",
       "      <td>2017-02-03</td>\n",
       "      <td>06:36</td>\n",
       "      <td>2</td>\n",
       "      <td>1</td>\n",
       "      <td>Slight</td>\n",
       "    </tr>\n",
       "    <tr>\n",
       "      <th>2040142</th>\n",
       "      <td>201763DP07917</td>\n",
       "      <td>1</td>\n",
       "      <td>0</td>\n",
       "      <td>Sunday</td>\n",
       "      <td>2</td>\n",
       "      <td>0</td>\n",
       "      <td>2</td>\n",
       "      <td>1</td>\n",
       "      <td>0</td>\n",
       "      <td>60.0</td>\n",
       "      <td>2017-02-19</td>\n",
       "      <td>13:34</td>\n",
       "      <td>2</td>\n",
       "      <td>1</td>\n",
       "      <td>Slight</td>\n",
       "    </tr>\n",
       "  </tbody>\n",
       "</table>\n",
       "<p>1101885 rows × 15 columns</p>\n",
       "</div>"
      ],
      "text/plain": [
       "        Accident_Index  1st_Road_Class  Carriageway_Hazards Day_of_Week  \\\n",
       "1        200501BS00002               2                    0   Wednesday   \n",
       "6        200501BS00007               3                    0    Thursday   \n",
       "8        200501BS00010               1                    0    Saturday   \n",
       "9        200501BS00011               2                    0    Saturday   \n",
       "10       200501BS00012               1                    0      Sunday   \n",
       "...                ...             ...                  ...         ...   \n",
       "2040128  201763DP06517               1                    0   Wednesday   \n",
       "2040130  201763DP06717               1                    0   Wednesday   \n",
       "2040138  201763DP07517               2                    0      Monday   \n",
       "2040140  201763DP07717               1                    0      Friday   \n",
       "2040142  201763DP07917               1                    0      Sunday   \n",
       "\n",
       "         Junction_Detail  Light_Conditions  Road_Surface_Conditions  \\\n",
       "1                      3                 1                        1   \n",
       "6                      2                 1                        1   \n",
       "8                      3                 1                        1   \n",
       "9                      2                 0                        1   \n",
       "10                     3                 1                        1   \n",
       "...                  ...               ...                      ...   \n",
       "2040128                2                 0                        1   \n",
       "2040130                2                 0                        1   \n",
       "2040138                5                 0                        2   \n",
       "2040140                2                 0                        4   \n",
       "2040142                2                 0                        2   \n",
       "\n",
       "         Road_Type  Special_Conditions_at_Site  Speed_limit       Date   Time  \\\n",
       "1                2                           0         30.0 2005-01-05  17:36   \n",
       "6                1                           0         30.0 2005-01-13  20:40   \n",
       "8                1                           0         30.0 2005-01-15  22:43   \n",
       "9                1                           0         30.0 2005-01-15  16:00   \n",
       "10               1                           0         30.0 2005-01-16  00:42   \n",
       "...            ...                         ...          ...        ...    ...   \n",
       "2040128          1                           0         60.0 2017-03-08  15:20   \n",
       "2040130          1                           0         30.0 2017-03-15  13:45   \n",
       "2040138          1                           0         60.0 2017-03-20  11:45   \n",
       "2040140          1                           0         30.0 2017-02-03  06:36   \n",
       "2040142          1                           0         60.0 2017-02-19  13:34   \n",
       "\n",
       "         Urban_or_Rural_Area  Weather_Conditions Accident_Severity  \n",
       "1                          1                   1            Slight  \n",
       "6                          1                   1            Slight  \n",
       "8                          1                   1            Slight  \n",
       "9                          1                   1            Slight  \n",
       "10                         1                   1            Slight  \n",
       "...                      ...                 ...               ...  \n",
       "2040128                    2                   1            Slight  \n",
       "2040130                    1                   1            Slight  \n",
       "2040138                    2                   2           Serious  \n",
       "2040140                    2                   1            Slight  \n",
       "2040142                    2                   1            Slight  \n",
       "\n",
       "[1101885 rows x 15 columns]"
      ]
     },
     "execution_count": 101,
     "metadata": {},
     "output_type": "execute_result"
    }
   ],
   "source": [
    "df_org"
   ]
  },
  {
   "cell_type": "code",
   "execution_count": 102,
   "id": "dc6b88ee",
   "metadata": {},
   "outputs": [
    {
     "data": {
      "text/html": [
       "<div>\n",
       "<style scoped>\n",
       "    .dataframe tbody tr th:only-of-type {\n",
       "        vertical-align: middle;\n",
       "    }\n",
       "\n",
       "    .dataframe tbody tr th {\n",
       "        vertical-align: top;\n",
       "    }\n",
       "\n",
       "    .dataframe thead th {\n",
       "        text-align: right;\n",
       "    }\n",
       "</style>\n",
       "<table border=\"1\" class=\"dataframe\">\n",
       "  <thead>\n",
       "    <tr style=\"text-align: right;\">\n",
       "      <th></th>\n",
       "      <th>Accident_Index</th>\n",
       "      <th>1st_Road_Class</th>\n",
       "      <th>Carriageway_Hazards</th>\n",
       "      <th>Day_of_Week</th>\n",
       "      <th>Junction_Detail</th>\n",
       "      <th>Light_Conditions</th>\n",
       "      <th>Road_Surface_Conditions</th>\n",
       "      <th>Road_Type</th>\n",
       "      <th>Special_Conditions_at_Site</th>\n",
       "      <th>Speed_limit</th>\n",
       "      <th>Date</th>\n",
       "      <th>Time</th>\n",
       "      <th>Urban_or_Rural_Area</th>\n",
       "      <th>Weather_Conditions</th>\n",
       "      <th>Accident_Severity</th>\n",
       "    </tr>\n",
       "  </thead>\n",
       "  <tbody>\n",
       "    <tr>\n",
       "      <th>1</th>\n",
       "      <td>200501BS00002</td>\n",
       "      <td>2</td>\n",
       "      <td>0</td>\n",
       "      <td>Wednesday</td>\n",
       "      <td>3</td>\n",
       "      <td>1</td>\n",
       "      <td>1</td>\n",
       "      <td>2</td>\n",
       "      <td>0</td>\n",
       "      <td>30.0</td>\n",
       "      <td>2005-01-05</td>\n",
       "      <td>17:36</td>\n",
       "      <td>1</td>\n",
       "      <td>1</td>\n",
       "      <td>Slight</td>\n",
       "    </tr>\n",
       "    <tr>\n",
       "      <th>6</th>\n",
       "      <td>200501BS00007</td>\n",
       "      <td>3</td>\n",
       "      <td>0</td>\n",
       "      <td>Thursday</td>\n",
       "      <td>2</td>\n",
       "      <td>1</td>\n",
       "      <td>1</td>\n",
       "      <td>1</td>\n",
       "      <td>0</td>\n",
       "      <td>30.0</td>\n",
       "      <td>2005-01-13</td>\n",
       "      <td>20:40</td>\n",
       "      <td>1</td>\n",
       "      <td>1</td>\n",
       "      <td>Slight</td>\n",
       "    </tr>\n",
       "    <tr>\n",
       "      <th>8</th>\n",
       "      <td>200501BS00010</td>\n",
       "      <td>1</td>\n",
       "      <td>0</td>\n",
       "      <td>Saturday</td>\n",
       "      <td>3</td>\n",
       "      <td>1</td>\n",
       "      <td>1</td>\n",
       "      <td>1</td>\n",
       "      <td>0</td>\n",
       "      <td>30.0</td>\n",
       "      <td>2005-01-15</td>\n",
       "      <td>22:43</td>\n",
       "      <td>1</td>\n",
       "      <td>1</td>\n",
       "      <td>Slight</td>\n",
       "    </tr>\n",
       "    <tr>\n",
       "      <th>9</th>\n",
       "      <td>200501BS00011</td>\n",
       "      <td>2</td>\n",
       "      <td>0</td>\n",
       "      <td>Saturday</td>\n",
       "      <td>2</td>\n",
       "      <td>0</td>\n",
       "      <td>1</td>\n",
       "      <td>1</td>\n",
       "      <td>0</td>\n",
       "      <td>30.0</td>\n",
       "      <td>2005-01-15</td>\n",
       "      <td>16:00</td>\n",
       "      <td>1</td>\n",
       "      <td>1</td>\n",
       "      <td>Slight</td>\n",
       "    </tr>\n",
       "    <tr>\n",
       "      <th>10</th>\n",
       "      <td>200501BS00012</td>\n",
       "      <td>1</td>\n",
       "      <td>0</td>\n",
       "      <td>Sunday</td>\n",
       "      <td>3</td>\n",
       "      <td>1</td>\n",
       "      <td>1</td>\n",
       "      <td>1</td>\n",
       "      <td>0</td>\n",
       "      <td>30.0</td>\n",
       "      <td>2005-01-16</td>\n",
       "      <td>00:42</td>\n",
       "      <td>1</td>\n",
       "      <td>1</td>\n",
       "      <td>Slight</td>\n",
       "    </tr>\n",
       "  </tbody>\n",
       "</table>\n",
       "</div>"
      ],
      "text/plain": [
       "   Accident_Index  1st_Road_Class  Carriageway_Hazards Day_of_Week  \\\n",
       "1   200501BS00002               2                    0   Wednesday   \n",
       "6   200501BS00007               3                    0    Thursday   \n",
       "8   200501BS00010               1                    0    Saturday   \n",
       "9   200501BS00011               2                    0    Saturday   \n",
       "10  200501BS00012               1                    0      Sunday   \n",
       "\n",
       "    Junction_Detail  Light_Conditions  Road_Surface_Conditions  Road_Type  \\\n",
       "1                 3                 1                        1          2   \n",
       "6                 2                 1                        1          1   \n",
       "8                 3                 1                        1          1   \n",
       "9                 2                 0                        1          1   \n",
       "10                3                 1                        1          1   \n",
       "\n",
       "    Special_Conditions_at_Site  Speed_limit       Date   Time  \\\n",
       "1                            0         30.0 2005-01-05  17:36   \n",
       "6                            0         30.0 2005-01-13  20:40   \n",
       "8                            0         30.0 2005-01-15  22:43   \n",
       "9                            0         30.0 2005-01-15  16:00   \n",
       "10                           0         30.0 2005-01-16  00:42   \n",
       "\n",
       "    Urban_or_Rural_Area  Weather_Conditions Accident_Severity  \n",
       "1                     1                   1            Slight  \n",
       "6                     1                   1            Slight  \n",
       "8                     1                   1            Slight  \n",
       "9                     1                   1            Slight  \n",
       "10                    1                   1            Slight  "
      ]
     },
     "execution_count": 102,
     "metadata": {},
     "output_type": "execute_result"
    }
   ],
   "source": [
    "df_org.head()"
   ]
  },
  {
   "cell_type": "code",
   "execution_count": 103,
   "id": "8055cf69",
   "metadata": {},
   "outputs": [
    {
     "name": "stdout",
     "output_type": "stream",
     "text": [
      "ERROR! Session/line number was not unique in database. History logging moved to new session 20\n"
     ]
    },
    {
     "name": "stderr",
     "output_type": "stream",
     "text": [
      "\n",
      "KeyboardInterrupt\n",
      "\n"
     ]
    },
    {
     "name": "stdout",
     "output_type": "stream",
     "text": [
      "Error in callback <function _draw_all_if_interactive at 0x000001F7D180D6C0> (for post_execute):\n"
     ]
    },
    {
     "name": "stderr",
     "output_type": "stream",
     "text": [
      "\n",
      "KeyboardInterrupt\n",
      "\n"
     ]
    },
    {
     "name": "stdout",
     "output_type": "stream",
     "text": [
      "Error in callback <function flush_figures at 0x000001F7D1AE64D0> (for post_execute):\n"
     ]
    },
    {
     "name": "stderr",
     "output_type": "stream",
     "text": [
      "\n",
      "KeyboardInterrupt\n",
      "\n"
     ]
    }
   ],
   "source": [
    "g=sns.pairplot(df_org)"
   ]
  },
  {
   "cell_type": "code",
   "execution_count": null,
   "id": "ad84df08",
   "metadata": {},
   "outputs": [],
   "source": [
    "sns.set()\n",
    "sns.pairplot(df_org,hue='Accident_Severity',dropna=True)"
   ]
  },
  {
   "cell_type": "code",
   "execution_count": null,
   "id": "e1d2b5eb",
   "metadata": {},
   "outputs": [],
   "source": [
    "sns.pairplot(df_head)"
   ]
  },
  {
   "cell_type": "code",
   "execution_count": 104,
   "id": "3d504779",
   "metadata": {},
   "outputs": [
    {
     "name": "stderr",
     "output_type": "stream",
     "text": [
      "\n",
      "KeyboardInterrupt\n",
      "\n"
     ]
    },
    {
     "name": "stdout",
     "output_type": "stream",
     "text": [
      "Error in callback <function _draw_all_if_interactive at 0x000001F7D180D6C0> (for post_execute):\n"
     ]
    },
    {
     "name": "stderr",
     "output_type": "stream",
     "text": [
      "\n",
      "KeyboardInterrupt\n",
      "\n"
     ]
    },
    {
     "name": "stdout",
     "output_type": "stream",
     "text": [
      "Error in callback <function flush_figures at 0x000001F7D1AE64D0> (for post_execute):\n"
     ]
    },
    {
     "name": "stderr",
     "output_type": "stream",
     "text": [
      "\n",
      "KeyboardInterrupt\n",
      "\n"
     ]
    }
   ],
   "source": [
    "g=sns.pairplot(df_org)"
   ]
  },
  {
   "cell_type": "code",
   "execution_count": 105,
   "id": "f262ae5a",
   "metadata": {},
   "outputs": [
    {
     "ename": "NameError",
     "evalue": "name 'df_head' is not defined",
     "output_type": "error",
     "traceback": [
      "\u001b[1;31m---------------------------------------------------------------------------\u001b[0m",
      "\u001b[1;31mNameError\u001b[0m                                 Traceback (most recent call last)",
      "Cell \u001b[1;32mIn[105], line 1\u001b[0m\n\u001b[1;32m----> 1\u001b[0m sns\u001b[38;5;241m.\u001b[39mpairplot(\u001b[43mdf_head\u001b[49m)\n",
      "\u001b[1;31mNameError\u001b[0m: name 'df_head' is not defined"
     ]
    }
   ],
   "source": [
    "sns.pairplot(df_head)"
   ]
  },
  {
   "cell_type": "code",
   "execution_count": 106,
   "id": "afdd9723",
   "metadata": {},
   "outputs": [
    {
     "name": "stderr",
     "output_type": "stream",
     "text": [
      "\n",
      "KeyboardInterrupt\n",
      "\n"
     ]
    },
    {
     "name": "stdout",
     "output_type": "stream",
     "text": [
      "Error in callback <function _draw_all_if_interactive at 0x000001F7D180D6C0> (for post_execute):\n"
     ]
    },
    {
     "ename": "KeyboardInterrupt",
     "evalue": "",
     "output_type": "error",
     "traceback": [
      "\u001b[1;31m---------------------------------------------------------------------------\u001b[0m",
      "\u001b[1;31mKeyboardInterrupt\u001b[0m                         Traceback (most recent call last)",
      "File \u001b[1;32m~\\anaconda3\\lib\\site-packages\\matplotlib\\pyplot.py:120\u001b[0m, in \u001b[0;36m_draw_all_if_interactive\u001b[1;34m()\u001b[0m\n\u001b[0;32m    118\u001b[0m \u001b[38;5;28;01mdef\u001b[39;00m \u001b[38;5;21m_draw_all_if_interactive\u001b[39m():\n\u001b[0;32m    119\u001b[0m     \u001b[38;5;28;01mif\u001b[39;00m matplotlib\u001b[38;5;241m.\u001b[39mis_interactive():\n\u001b[1;32m--> 120\u001b[0m         \u001b[43mdraw_all\u001b[49m\u001b[43m(\u001b[49m\u001b[43m)\u001b[49m\n",
      "File \u001b[1;32m~\\anaconda3\\lib\\site-packages\\matplotlib\\_pylab_helpers.py:132\u001b[0m, in \u001b[0;36mGcf.draw_all\u001b[1;34m(cls, force)\u001b[0m\n\u001b[0;32m    130\u001b[0m \u001b[38;5;28;01mfor\u001b[39;00m manager \u001b[38;5;129;01min\u001b[39;00m \u001b[38;5;28mcls\u001b[39m\u001b[38;5;241m.\u001b[39mget_all_fig_managers():\n\u001b[0;32m    131\u001b[0m     \u001b[38;5;28;01mif\u001b[39;00m force \u001b[38;5;129;01mor\u001b[39;00m manager\u001b[38;5;241m.\u001b[39mcanvas\u001b[38;5;241m.\u001b[39mfigure\u001b[38;5;241m.\u001b[39mstale:\n\u001b[1;32m--> 132\u001b[0m         \u001b[43mmanager\u001b[49m\u001b[38;5;241;43m.\u001b[39;49m\u001b[43mcanvas\u001b[49m\u001b[38;5;241;43m.\u001b[39;49m\u001b[43mdraw_idle\u001b[49m\u001b[43m(\u001b[49m\u001b[43m)\u001b[49m\n",
      "File \u001b[1;32m~\\anaconda3\\lib\\site-packages\\matplotlib\\backend_bases.py:2078\u001b[0m, in \u001b[0;36mFigureCanvasBase.draw_idle\u001b[1;34m(self, *args, **kwargs)\u001b[0m\n\u001b[0;32m   2076\u001b[0m \u001b[38;5;28;01mif\u001b[39;00m \u001b[38;5;129;01mnot\u001b[39;00m \u001b[38;5;28mself\u001b[39m\u001b[38;5;241m.\u001b[39m_is_idle_drawing:\n\u001b[0;32m   2077\u001b[0m     \u001b[38;5;28;01mwith\u001b[39;00m \u001b[38;5;28mself\u001b[39m\u001b[38;5;241m.\u001b[39m_idle_draw_cntx():\n\u001b[1;32m-> 2078\u001b[0m         \u001b[38;5;28mself\u001b[39m\u001b[38;5;241m.\u001b[39mdraw(\u001b[38;5;241m*\u001b[39margs, \u001b[38;5;241m*\u001b[39m\u001b[38;5;241m*\u001b[39mkwargs)\n",
      "File \u001b[1;32m~\\anaconda3\\lib\\site-packages\\matplotlib\\backends\\backend_agg.py:395\u001b[0m, in \u001b[0;36mFigureCanvasAgg.draw\u001b[1;34m(self)\u001b[0m\n\u001b[0;32m    392\u001b[0m \u001b[38;5;28;01mdef\u001b[39;00m \u001b[38;5;21mdraw\u001b[39m(\u001b[38;5;28mself\u001b[39m):\n\u001b[0;32m    393\u001b[0m     \u001b[38;5;66;03m# docstring inherited\u001b[39;00m\n\u001b[0;32m    394\u001b[0m     \u001b[38;5;28mself\u001b[39m\u001b[38;5;241m.\u001b[39mrenderer \u001b[38;5;241m=\u001b[39m \u001b[38;5;28mself\u001b[39m\u001b[38;5;241m.\u001b[39mget_renderer()\n\u001b[1;32m--> 395\u001b[0m     \u001b[38;5;28;43mself\u001b[39;49m\u001b[38;5;241;43m.\u001b[39;49m\u001b[43mrenderer\u001b[49m\u001b[38;5;241;43m.\u001b[39;49m\u001b[43mclear\u001b[49m\u001b[43m(\u001b[49m\u001b[43m)\u001b[49m\n\u001b[0;32m    396\u001b[0m     \u001b[38;5;66;03m# Acquire a lock on the shared font cache.\u001b[39;00m\n\u001b[0;32m    397\u001b[0m     \u001b[38;5;28;01mwith\u001b[39;00m RendererAgg\u001b[38;5;241m.\u001b[39mlock, \\\n\u001b[0;32m    398\u001b[0m          (\u001b[38;5;28mself\u001b[39m\u001b[38;5;241m.\u001b[39mtoolbar\u001b[38;5;241m.\u001b[39m_wait_cursor_for_draw_cm() \u001b[38;5;28;01mif\u001b[39;00m \u001b[38;5;28mself\u001b[39m\u001b[38;5;241m.\u001b[39mtoolbar\n\u001b[0;32m    399\u001b[0m           \u001b[38;5;28;01melse\u001b[39;00m nullcontext()):\n",
      "\u001b[1;31mKeyboardInterrupt\u001b[0m: "
     ]
    },
    {
     "data": {
      "image/png": "[encoded data removed]",
      "text/plain": [
       "<Figure size 2500x2500 with 110 Axes>"
      ]
     },
     "metadata": {},
     "output_type": "display_data"
    }
   ],
   "source": [
    "sns.pairplot(df_org)"
   ]
  },
  {
   "cell_type": "code",
   "execution_count": null,
   "id": "22d7f02c",
   "metadata": {},
   "outputs": [],
   "source": [
    "g=sns.pairplot(df_org)"
   ]
  },
  {
   "cell_type": "code",
   "execution_count": 107,
   "id": "988e9360",
   "metadata": {},
   "outputs": [
    {
     "name": "stderr",
     "output_type": "stream",
     "text": [
      "C:\\Users\\SALONI JHA\\AppData\\Local\\Temp\\ipykernel_21188\\3786950008.py:5: SettingWithCopyWarning: \n",
      "A value is trying to be set on a copy of a slice from a DataFrame.\n",
      "Try using .loc[row_indexer,col_indexer] = value instead\n",
      "\n",
      "See the caveats in the documentation: https://pandas.pydata.org/pandas-docs/stable/user_guide/indexing.html#returning-a-view-versus-a-copy\n",
      "  df_org.replace(accident_severity, inplace=True)\n"
     ]
    },
    {
     "data": {
      "text/plain": [
       "0    956285\n",
       "1    145600\n",
       "Name: Accident_Severity, dtype: int64"
      ]
     },
     "execution_count": 107,
     "metadata": {},
     "output_type": "execute_result"
    }
   ],
   "source": [
    "accident_severity = {\"Accident_Severity\": \n",
    "                            {\"Serious\": 1,\n",
    "                             \"Fatal\": 1,\n",
    "                             \"Slight\": 0}}\n",
    "df_org.replace(accident_severity, inplace=True)\n",
    "df_org['Accident_Severity'].value_counts()"
   ]
  },
  {
   "cell_type": "code",
   "execution_count": 108,
   "id": "81bd3c58",
   "metadata": {},
   "outputs": [
    {
     "name": "stderr",
     "output_type": "stream",
     "text": [
      "C:\\Users\\SALONI JHA\\AppData\\Local\\Temp\\ipykernel_21188\\2182571399.py:1: SettingWithCopyWarning: \n",
      "A value is trying to be set on a copy of a slice from a DataFrame.\n",
      "Try using .loc[row_indexer,col_indexer] = value instead\n",
      "\n",
      "See the caveats in the documentation: https://pandas.pydata.org/pandas-docs/stable/user_guide/indexing.html#returning-a-view-versus-a-copy\n",
      "  df_org['Date'] = pd.to_datetime(df_org['Date'], format='%Y-%m-%d')\n",
      "C:\\Users\\SALONI JHA\\AppData\\Local\\Temp\\ipykernel_21188\\2182571399.py:2: SettingWithCopyWarning: \n",
      "A value is trying to be set on a copy of a slice from a DataFrame.\n",
      "Try using .loc[row_indexer,col_indexer] = value instead\n",
      "\n",
      "See the caveats in the documentation: https://pandas.pydata.org/pandas-docs/stable/user_guide/indexing.html#returning-a-view-versus-a-copy\n",
      "  df_org['Month'] = df_org['Date'].dt.month\n",
      "C:\\Users\\SALONI JHA\\AppData\\Local\\Temp\\ipykernel_21188\\2182571399.py:3: SettingWithCopyWarning: \n",
      "A value is trying to be set on a copy of a slice from a DataFrame.\n",
      "Try using .loc[row_indexer,col_indexer] = value instead\n",
      "\n",
      "See the caveats in the documentation: https://pandas.pydata.org/pandas-docs/stable/user_guide/indexing.html#returning-a-view-versus-a-copy\n",
      "  df_org['Day'] = df_org['Date'].dt.day\n",
      "C:\\Users\\SALONI JHA\\AppData\\Local\\Temp\\ipykernel_21188\\2182571399.py:4: SettingWithCopyWarning: \n",
      "A value is trying to be set on a copy of a slice from a DataFrame.\n",
      "Try using .loc[row_indexer,col_indexer] = value instead\n",
      "\n",
      "See the caveats in the documentation: https://pandas.pydata.org/pandas-docs/stable/user_guide/indexing.html#returning-a-view-versus-a-copy\n",
      "  df_org['Hour of Day'] = df_org['Time'].apply(to_hour)\n"
     ]
    }
   ],
   "source": [
    "df_org['Date'] = pd.to_datetime(df_org['Date'], format='%Y-%m-%d')\n",
    "df_org['Month'] = df_org['Date'].dt.month\n",
    "df_org['Day'] = df_org['Date'].dt.day\n",
    "df_org['Hour of Day'] = df_org['Time'].apply(to_hour)"
   ]
  },
  {
   "cell_type": "code",
   "execution_count": 109,
   "id": "63804d0c",
   "metadata": {},
   "outputs": [
    {
     "data": {
      "text/html": [
       "        <script type=\"text/javascript\">\n",
       "        window.PlotlyConfig = {MathJaxConfig: 'local'};\n",
       "        if (window.MathJax && window.MathJax.Hub && window.MathJax.Hub.Config) {window.MathJax.Hub.Config({SVG: {font: \"STIX-Web\"}});}\n",
       "        if (typeof require !== 'undefined') {\n",
       "        require.undef(\"plotly\");\n",
       "        requirejs.config({\n",
       "            paths: {\n",
       "                'plotly': ['https://cdn.plot.ly/plotly-2.12.1.min']\n",
       "            }\n",
       "        });\n",
       "        require(['plotly'], function(Plotly) {\n",
       "            window._Plotly = Plotly;\n",
       "        });\n",
       "        }\n",
       "        </script>\n",
       "        "
      ]
     },
     "metadata": {},
     "output_type": "display_data"
    },
    {
     "ename": "AttributeError",
     "evalue": "module 'plotly.tools' has no attribute 'set_config_file'",
     "output_type": "error",
     "traceback": [
      "\u001b[1;31m---------------------------------------------------------------------------\u001b[0m",
      "\u001b[1;31mAttributeError\u001b[0m                            Traceback (most recent call last)",
      "Cell \u001b[1;32mIn[109], line 4\u001b[0m\n\u001b[0;32m      2\u001b[0m plotly\u001b[38;5;241m.\u001b[39moffline\u001b[38;5;241m.\u001b[39minit_notebook_mode(connected\u001b[38;5;241m=\u001b[39m\u001b[38;5;28;01mTrue\u001b[39;00m)\n\u001b[0;32m      3\u001b[0m \u001b[38;5;28;01mimport\u001b[39;00m \u001b[38;5;21;01mplotly\u001b[39;00m\u001b[38;5;21;01m.\u001b[39;00m\u001b[38;5;21;01moffline\u001b[39;00m \u001b[38;5;28;01mas\u001b[39;00m \u001b[38;5;21;01mpy\u001b[39;00m\n\u001b[1;32m----> 4\u001b[0m \u001b[43mplotly\u001b[49m\u001b[38;5;241;43m.\u001b[39;49m\u001b[43mtools\u001b[49m\u001b[38;5;241;43m.\u001b[39;49m\u001b[43mset_config_file\u001b[49m(world_readable\u001b[38;5;241m=\u001b[39m\u001b[38;5;28;01mTrue\u001b[39;00m)\n",
      "\u001b[1;31mAttributeError\u001b[0m: module 'plotly.tools' has no attribute 'set_config_file'"
     ]
    }
   ],
   "source": [
    "import plotly\n",
    "plotly.offline.init_notebook_mode(connected=True)\n",
    "import plotly.offline as py\n",
    "plotly.tools.set_config_file(world_readable=True)"
   ]
  },
  {
   "cell_type": "code",
   "execution_count": 110,
   "id": "1c2dc219",
   "metadata": {},
   "outputs": [
    {
     "data": {
      "text/html": [
       "        <script type=\"text/javascript\">\n",
       "        window.PlotlyConfig = {MathJaxConfig: 'local'};\n",
       "        if (window.MathJax && window.MathJax.Hub && window.MathJax.Hub.Config) {window.MathJax.Hub.Config({SVG: {font: \"STIX-Web\"}});}\n",
       "        if (typeof require !== 'undefined') {\n",
       "        require.undef(\"plotly\");\n",
       "        requirejs.config({\n",
       "            paths: {\n",
       "                'plotly': ['https://cdn.plot.ly/plotly-2.12.1.min']\n",
       "            }\n",
       "        });\n",
       "        require(['plotly'], function(Plotly) {\n",
       "            window._Plotly = Plotly;\n",
       "        });\n",
       "        }\n",
       "        </script>\n",
       "        "
      ]
     },
     "metadata": {},
     "output_type": "display_data"
    },
    {
     "ename": "AttributeError",
     "evalue": "module 'plotly.tools' has no attribute 'set_config_file'",
     "output_type": "error",
     "traceback": [
      "\u001b[1;31m---------------------------------------------------------------------------\u001b[0m",
      "\u001b[1;31mAttributeError\u001b[0m                            Traceback (most recent call last)",
      "Cell \u001b[1;32mIn[110], line 4\u001b[0m\n\u001b[0;32m      2\u001b[0m plotly\u001b[38;5;241m.\u001b[39moffline\u001b[38;5;241m.\u001b[39minit_notebook_mode(connected\u001b[38;5;241m=\u001b[39m\u001b[38;5;28;01mTrue\u001b[39;00m)\n\u001b[0;32m      3\u001b[0m \u001b[38;5;28;01mimport\u001b[39;00m \u001b[38;5;21;01mplotly\u001b[39;00m\u001b[38;5;21;01m.\u001b[39;00m\u001b[38;5;21;01moffline\u001b[39;00m \u001b[38;5;28;01mas\u001b[39;00m \u001b[38;5;21;01mpy\u001b[39;00m\n\u001b[1;32m----> 4\u001b[0m \u001b[43mplotly\u001b[49m\u001b[38;5;241;43m.\u001b[39;49m\u001b[43mtools\u001b[49m\u001b[38;5;241;43m.\u001b[39;49m\u001b[43mset_config_file\u001b[49m(world_readable\u001b[38;5;241m=\u001b[39m\u001b[38;5;28;01mTrue\u001b[39;00m)\n",
      "\u001b[1;31mAttributeError\u001b[0m: module 'plotly.tools' has no attribute 'set_config_file'"
     ]
    }
   ],
   "source": [
    "import plotly\n",
    "plotly.offline.init_notebook_mode(connected=True)\n",
    "import plotly.offline as py\n",
    "plotly.tools.set_config_file(world_readable=True)"
   ]
  }
 ],
 "metadata": {
  "kernelspec": {
   "display_name": "Python 3 (ipykernel)",
   "language": "python",
   "name": "python3"
  },
  "language_info": {
   "codemirror_mode": {
    "name": "ipython",
    "version": 3
   },
   "file_extension": ".py",
   "mimetype": "text/x-python",
   "name": "python",
   "nbconvert_exporter": "python",
   "pygments_lexer": "ipython3",
   "version": "3.10.9"
  }
 },
 "nbformat": 4,
 "nbformat_minor": 5
}
